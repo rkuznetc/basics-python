{
 "cells": [
  {
   "cell_type": "markdown",
   "id": "0ec9bdea",
   "metadata": {},
   "source": [
    "**Задача 1: Система управления библиотекой**\n",
    "\n",
    "Создайте систему управления библиотекой используя collections:\n",
    "\n",
    "1. Создайте namedtuple `Book` с полями: title, author, isbn, year\n",
    "2. Создайте namedtuple `Reader` с полями: name, reader_id, phone\n",
    "3. Используйте `defaultdict(list)` для хранения книг по жанрам\n",
    "4. Используйте `deque` для очереди читателей, ожидающих популярную книгу\n",
    "5. Используйте `Counter` для подсчета количества книг каждого автора\n",
    "6. Используйте `OrderedDict` для хранения истории выдачи книг (читатель -> список книг)\n",
    "7. Сериализуйте все данные в JSON и pickle форматы\n"
   ]
  },
  {
   "cell_type": "code",
   "execution_count": null,
   "id": "59bccfb7",
   "metadata": {
    "vscode": {
     "languageId": "plaintext"
    }
   },
   "outputs": [],
   "source": []
  },
  {
   "cell_type": "markdown",
   "id": "79281705",
   "metadata": {},
   "source": [
    "**Задача 2: Анализатор файловой системы**\n",
    "\n",
    "Создайте анализатор файловой системы используя os и sys:\n",
    "\n",
    "1. Создайте namedtuple `FileInfo` с полями: name, size, extension, modified_time\n",
    "2. Используйте `os.walk()` для обхода директории\n",
    "3. Используйте `os.path` функции для получения информации о файлах\n",
    "4. Используйте `Counter` для подсчета файлов по расширениям\n",
    "5. Используйте `defaultdict(list)` для группировки файлов по размеру (маленькие < 1MB, средние 1-100MB, большие > 100MB)\n",
    "6. Используйте `deque` для хранения последних 10 найденных файлов\n",
    "7. Выведите статистику используя `sys.getsizeof()` для подсчета памяти\n",
    "8. Сохраните результаты в JSON файл\n"
   ]
  },
  {
   "cell_type": "code",
   "execution_count": null,
   "id": "be1041bb",
   "metadata": {
    "vscode": {
     "languageId": "plaintext"
    }
   },
   "outputs": [],
   "source": []
  },
  {
   "cell_type": "markdown",
   "id": "3b3aa3f4",
   "metadata": {},
   "source": [
    "**Задача 3: Система конфигурации приложения**\n",
    "\n",
    "Создайте систему конфигурации используя ChainMap и defaultdict:\n",
    "\n",
    "1. Создайте namedtuple `Config` с полями: key, value, section, default_value\n",
    "2. Создайте несколько словарей конфигурации (default, user, environment)\n",
    "3. Используйте `ChainMap` для объединения конфигураций с приоритетом\n",
    "4. Используйте `defaultdict(dict)` для группировки настроек по секциям\n",
    "5. Используйте `OrderedDict` для сохранения порядка загрузки конфигураций\n",
    "6. Используйте `os.environ` для чтения переменных окружения\n",
    "7. Сериализуйте конфигурацию в JSON и pickle форматы"
   ]
  },
  {
   "cell_type": "code",
   "execution_count": null,
   "id": "de0c6e87",
   "metadata": {
    "vscode": {
     "languageId": "plaintext"
    }
   },
   "outputs": [],
   "source": []
  }
 ],
 "metadata": {
  "language_info": {
   "name": "python"
  }
 },
 "nbformat": 4,
 "nbformat_minor": 5
}
