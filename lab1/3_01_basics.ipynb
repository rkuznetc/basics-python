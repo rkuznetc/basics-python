{
 "cells": [
  {
   "cell_type": "markdown",
   "id": "aaa5b9f4",
   "metadata": {},
   "source": [
    "### Задание 1.1: Калькулятор оценок\n",
    "Напишите программу, которая принимает числовую оценку (0-100) и выводит соответствующую буквенную оценку:\n",
    "- 90-100: A\n",
    "- 80-89: B  \n",
    "- 70-79: C\n",
    "- 60-69: D\n",
    "- 0-59: F"
   ]
  },
  {
   "cell_type": "code",
   "execution_count": 2,
   "id": "8adc6dbf",
   "metadata": {},
   "outputs": [
    {
     "name": "stdout",
     "output_type": "stream",
     "text": [
      "A\n",
      "B\n",
      "C\n",
      "F\n"
     ]
    }
   ],
   "source": [
    "def phi(mark: int) -> str:\n",
    "    assert 0 <= mark <= 100, f'Incorrect input of mark {mark}'\n",
    "\n",
    "    if 90 <= mark <= 100:\n",
    "        return 'A'\n",
    "    elif 80 <= mark <= 89:\n",
    "        return 'B'\n",
    "    elif 70 <= mark <= 79:\n",
    "        return 'C'\n",
    "    elif 60 <= mark <= 69   :\n",
    "        return 'D'\n",
    "    elif 0 <= mark <= 59:\n",
    "        return \"F\"\n",
    "\n",
    "print(phi(99))\n",
    "print(phi(80))\n",
    "print(phi(70))\n",
    "print(phi(50))"
   ]
  },
  {
   "cell_type": "code",
   "execution_count": null,
   "id": "b47fe297",
   "metadata": {},
   "outputs": [
    {
     "ename": "AssertionError",
     "evalue": "Incorrect input of mark 500",
     "output_type": "error",
     "traceback": [
      "\u001b[31m---------------------------------------------------------------------------\u001b[39m",
      "\u001b[31mAssertionError\u001b[39m                            Traceback (most recent call last)",
      "\u001b[36mCell\u001b[39m\u001b[36m \u001b[39m\u001b[32mIn[35]\u001b[39m\u001b[32m, line 18\u001b[39m\n\u001b[32m     14\u001b[39m             \u001b[38;5;28;01mreturn\u001b[39;00m \u001b[33m'\u001b[39m\u001b[33mF\u001b[39m\u001b[33m'\u001b[39m\n\u001b[32m     15\u001b[39m         \u001b[38;5;66;03m# case _:\u001b[39;00m\n\u001b[32m     16\u001b[39m         \u001b[38;5;66;03m#     raise ValueError(f'Incorrect input of mark {mark}')\u001b[39;00m\n\u001b[32m---> \u001b[39m\u001b[32m18\u001b[39m \u001b[38;5;28mprint\u001b[39m(\u001b[43mphi\u001b[49m\u001b[43m(\u001b[49m\u001b[32;43m500\u001b[39;49m\u001b[43m)\u001b[49m)\n",
      "\u001b[36mCell\u001b[39m\u001b[36m \u001b[39m\u001b[32mIn[35]\u001b[39m\u001b[32m, line 2\u001b[39m, in \u001b[36mphi\u001b[39m\u001b[34m(mark)\u001b[39m\n\u001b[32m      1\u001b[39m \u001b[38;5;28;01mdef\u001b[39;00m\u001b[38;5;250m \u001b[39m\u001b[34mphi\u001b[39m(mark: \u001b[38;5;28mint\u001b[39m) -> \u001b[38;5;28mstr\u001b[39m:\n\u001b[32m----> \u001b[39m\u001b[32m2\u001b[39m     \u001b[38;5;28;01massert\u001b[39;00m \u001b[32m0\u001b[39m <= mark <= \u001b[32m100\u001b[39m, \u001b[33mf\u001b[39m\u001b[33m'\u001b[39m\u001b[33mIncorrect input of mark \u001b[39m\u001b[38;5;132;01m{\u001b[39;00mmark\u001b[38;5;132;01m}\u001b[39;00m\u001b[33m'\u001b[39m\n\u001b[32m      4\u001b[39m     \u001b[38;5;28;01mmatch\u001b[39;00m mark:\n\u001b[32m      5\u001b[39m         \u001b[38;5;28;01mcase\u001b[39;00m\u001b[38;5;250m \u001b[39m\u001b[38;5;28;01m_\u001b[39;00m \u001b[38;5;28;01mif\u001b[39;00m \u001b[32m90\u001b[39m <= mark <= \u001b[32m100\u001b[39m:\n",
      "\u001b[31mAssertionError\u001b[39m: Incorrect input of mark 500"
     ]
    }
   ],
   "source": [
    "def phi(mark: int) -> str:\n",
    "    assert 0 <= mark <= 100, f'Incorrect input of mark {mark}'\n",
    "\n",
    "    match mark:\n",
    "        case _ if 90 <= mark <= 100:\n",
    "            return 'A'\n",
    "        case _ if 80 <= mark <= 89:\n",
    "            return 'B'\n",
    "        case _ if 70 <= mark <= 79:\n",
    "            return 'C'\n",
    "        case _ if 60 <= mark <= 69:\n",
    "            return 'D'\n",
    "        case _ if 0 < mark <= 59:\n",
    "            return 'F'\n",
    "        \n",
    "print(phi(500))"
   ]
  },
  {
   "cell_type": "markdown",
   "id": "ec55969a",
   "metadata": {},
   "source": [
    "### Задание 1.2: Проверка года на високосность\n",
    "Создайте функцию, которая определяет, является ли год високосным. Год високосный, если:\n",
    "- Он делится на 4, но не на 100, ИЛИ\n",
    "- Он делится на 400"
   ]
  },
  {
   "cell_type": "code",
   "execution_count": 38,
   "id": "00c9e7a2",
   "metadata": {},
   "outputs": [
    {
     "name": "stdout",
     "output_type": "stream",
     "text": [
      "2000 is a leap year: True\n",
      "2024 is a leap year: True\n",
      "2020 is a leap year: True\n",
      "1900 is a leap year: False\n",
      "1799 is a leap year: False\n",
      "2021 is a leap year: False\n"
     ]
    }
   ],
   "source": [
    "def is_year_leap(year: int) -> bool:\n",
    "    assert isinstance(year, int) and year > 0, f\"Param 'year' must be a positive integer\"\n",
    "    \n",
    "    return True if (year % 4 == 0 and year % 100) or (year % 400 == 0) else False\n",
    "\n",
    "leap_years = [2000, 2024, 2020]\n",
    "nonleap_years = [1900, 1799, 2021]\n",
    "\n",
    "for leap_year in leap_years:\n",
    "    print(f\"{leap_year} is a leap year: {is_year_leap(leap_year)}\")\n",
    "for nonleap_year in nonleap_years:\n",
    "    print(f\"{nonleap_year} is a leap year: {is_year_leap(nonleap_year)}\")"
   ]
  },
  {
   "cell_type": "markdown",
   "id": "6a423f4e",
   "metadata": {},
   "source": [
    "### Задание 1.3: Классификация треугольников\n",
    "Напишите программу, которая по трем сторонам треугольника определяет его тип:\n",
    "- Равносторонний (все стороны равны)\n",
    "- Равнобедренный (две стороны равны)\n",
    "- Разносторонний (все стороны разные)\n",
    "- Не является треугольником (сумма двух сторон меньше третьей)"
   ]
  },
  {
   "cell_type": "code",
   "execution_count": null,
   "id": "a0e78c45",
   "metadata": {},
   "outputs": [
    {
     "name": "stdout",
     "output_type": "stream",
     "text": [
      "Задан равнобедренный треугольник\n",
      "Задан равносторонний треугольник\n",
      "Задан разносторонний треугольник\n"
     ]
    },
    {
     "ename": "AssertionError",
     "evalue": "Side 'a' must be numeric",
     "output_type": "error",
     "traceback": [
      "\u001b[31m---------------------------------------------------------------------------\u001b[39m",
      "\u001b[31mAssertionError\u001b[39m                            Traceback (most recent call last)",
      "\u001b[36mCell\u001b[39m\u001b[36m \u001b[39m\u001b[32mIn[41]\u001b[39m\u001b[32m, line 21\u001b[39m\n\u001b[32m     19\u001b[39m determine_triangle(\u001b[32m1\u001b[39m, \u001b[32m2\u001b[39m, \u001b[32m2.5\u001b[39m)\n\u001b[32m     20\u001b[39m \u001b[38;5;66;03m# determine_triangle(1, 2, 4)\u001b[39;00m\n\u001b[32m---> \u001b[39m\u001b[32m21\u001b[39m \u001b[43mdetermine_triangle\u001b[49m\u001b[43m(\u001b[49m\u001b[33;43m'\u001b[39;49m\u001b[33;43m1\u001b[39;49m\u001b[33;43m'\u001b[39;49m\u001b[43m,\u001b[49m\u001b[43m \u001b[49m\u001b[32;43m2\u001b[39;49m\u001b[43m,\u001b[49m\u001b[43m \u001b[49m\u001b[32;43m3\u001b[39;49m\u001b[43m)\u001b[49m\n",
      "\u001b[36mCell\u001b[39m\u001b[36m \u001b[39m\u001b[32mIn[41]\u001b[39m\u001b[32m, line 4\u001b[39m, in \u001b[36mdetermine_triangle\u001b[39m\u001b[34m(a, b, c)\u001b[39m\n\u001b[32m      1\u001b[39m \u001b[38;5;28;01mdef\u001b[39;00m\u001b[38;5;250m \u001b[39m\u001b[34mdetermine_triangle\u001b[39m(a: \u001b[38;5;28mfloat\u001b[39m, b: \u001b[38;5;28mfloat\u001b[39m, c: \u001b[38;5;28mfloat\u001b[39m) -> \u001b[38;5;28;01mNone\u001b[39;00m:\n\u001b[32m      2\u001b[39m     \u001b[38;5;66;03m# Check that all sides are numbers (int or float) and positive\u001b[39;00m\n\u001b[32m      3\u001b[39m     \u001b[38;5;28;01mfor\u001b[39;00m side, name \u001b[38;5;129;01min\u001b[39;00m \u001b[38;5;28mzip\u001b[39m((a, b, c), (\u001b[33m'\u001b[39m\u001b[33ma\u001b[39m\u001b[33m'\u001b[39m, \u001b[33m'\u001b[39m\u001b[33mb\u001b[39m\u001b[33m'\u001b[39m, \u001b[33m'\u001b[39m\u001b[33mc\u001b[39m\u001b[33m'\u001b[39m)):\n\u001b[32m----> \u001b[39m\u001b[32m4\u001b[39m         \u001b[38;5;28;01massert\u001b[39;00m \u001b[38;5;28misinstance\u001b[39m(side, (\u001b[38;5;28mint\u001b[39m, \u001b[38;5;28mfloat\u001b[39m)), \u001b[33mf\u001b[39m\u001b[33m\"\u001b[39m\u001b[33mSide \u001b[39m\u001b[33m'\u001b[39m\u001b[38;5;132;01m{\u001b[39;00mname\u001b[38;5;132;01m}\u001b[39;00m\u001b[33m'\u001b[39m\u001b[33m must be numeric\u001b[39m\u001b[33m\"\u001b[39m\n\u001b[32m      5\u001b[39m         \u001b[38;5;28;01massert\u001b[39;00m side > \u001b[32m0\u001b[39m, \u001b[33mf\u001b[39m\u001b[33m\"\u001b[39m\u001b[33mSide \u001b[39m\u001b[33m'\u001b[39m\u001b[38;5;132;01m{\u001b[39;00mname\u001b[38;5;132;01m}\u001b[39;00m\u001b[33m'\u001b[39m\u001b[33m must be positive number\u001b[39m\u001b[33m\"\u001b[39m\n\u001b[32m      7\u001b[39m     sorted_sides = \u001b[38;5;28msorted\u001b[39m([a, b, c])\n",
      "\u001b[31mAssertionError\u001b[39m: Side 'a' must be numeric"
     ]
    }
   ],
   "source": [
    "def determine_triangle(a: float, b: float, c: float) -> None:\n",
    "    # Check that all sides are numbers (int or float) and positive\n",
    "    for side, name in zip((a, b, c), ('a', 'b', 'c')):\n",
    "        assert isinstance(side, (int, float)), f\"Side '{name}' must be numeric\"\n",
    "        assert side > 0, f\"Side '{name}' must be positive number\"\n",
    "\n",
    "    sorted_sides = sorted([a, b, c])\n",
    "    assert sorted_sides[-1] <= sorted_sides[0] + sorted_sides[1], \"Задан НЕ треугольник\"\n",
    "\n",
    "    if a == b == c:\n",
    "        print(\"Задан равносторонний треугольник\")\n",
    "    elif a != b and b != c and a != c:\n",
    "        print(\"Задан разносторонний треугольник\")\n",
    "    else:\n",
    "        print(\"Задан равнобедренный треугольник\")\n",
    "\n",
    "determine_triangle(.5, 2.5, 2.5)\n",
    "determine_triangle(2.5, 2.5, 2.5)\n",
    "determine_triangle(1, 2, 2.5)\n",
    "determine_triangle(1, 2, 4)     # non-triangle assert check\n",
    "# determine_triangle('1', 2, 3) # non-int assert check"
   ]
  },
  {
   "cell_type": "markdown",
   "id": "a5171f2c",
   "metadata": {},
   "source": [
    "### Задание 2.1: Таблица умножения\n",
    "Создайте программу, которая выводит таблицу умножения от 1 до 10. Используйте вложенные циклы for."
   ]
  },
  {
   "cell_type": "code",
   "execution_count": 6,
   "id": "41c668eb",
   "metadata": {},
   "outputs": [
    {
     "name": "stdout",
     "output_type": "stream",
     "text": [
      "1 * 1 = 1\n",
      "1 * 2 = 2\n",
      "1 * 3 = 3\n",
      "1 * 4 = 4\n",
      "1 * 5 = 5\n",
      "1 * 6 = 6\n",
      "1 * 7 = 7\n",
      "1 * 8 = 8\n",
      "1 * 9 = 9\n",
      "1 * 10 = 10\n",
      "2 * 1 = 2\n",
      "2 * 2 = 4\n",
      "2 * 3 = 6\n",
      "2 * 4 = 8\n",
      "2 * 5 = 10\n",
      "2 * 6 = 12\n",
      "2 * 7 = 14\n",
      "2 * 8 = 16\n",
      "2 * 9 = 18\n",
      "2 * 10 = 20\n",
      "3 * 1 = 3\n",
      "3 * 2 = 6\n",
      "3 * 3 = 9\n",
      "3 * 4 = 12\n",
      "3 * 5 = 15\n",
      "3 * 6 = 18\n",
      "3 * 7 = 21\n",
      "3 * 8 = 24\n",
      "3 * 9 = 27\n",
      "3 * 10 = 30\n",
      "4 * 1 = 4\n",
      "4 * 2 = 8\n",
      "4 * 3 = 12\n",
      "4 * 4 = 16\n",
      "4 * 5 = 20\n",
      "4 * 6 = 24\n",
      "4 * 7 = 28\n",
      "4 * 8 = 32\n",
      "4 * 9 = 36\n",
      "4 * 10 = 40\n",
      "5 * 1 = 5\n",
      "5 * 2 = 10\n",
      "5 * 3 = 15\n",
      "5 * 4 = 20\n",
      "5 * 5 = 25\n",
      "5 * 6 = 30\n",
      "5 * 7 = 35\n",
      "5 * 8 = 40\n",
      "5 * 9 = 45\n",
      "5 * 10 = 50\n",
      "6 * 1 = 6\n",
      "6 * 2 = 12\n",
      "6 * 3 = 18\n",
      "6 * 4 = 24\n",
      "6 * 5 = 30\n",
      "6 * 6 = 36\n",
      "6 * 7 = 42\n",
      "6 * 8 = 48\n",
      "6 * 9 = 54\n",
      "6 * 10 = 60\n",
      "7 * 1 = 7\n",
      "7 * 2 = 14\n",
      "7 * 3 = 21\n",
      "7 * 4 = 28\n",
      "7 * 5 = 35\n",
      "7 * 6 = 42\n",
      "7 * 7 = 49\n",
      "7 * 8 = 56\n",
      "7 * 9 = 63\n",
      "7 * 10 = 70\n",
      "8 * 1 = 8\n",
      "8 * 2 = 16\n",
      "8 * 3 = 24\n",
      "8 * 4 = 32\n",
      "8 * 5 = 40\n",
      "8 * 6 = 48\n",
      "8 * 7 = 56\n",
      "8 * 8 = 64\n",
      "8 * 9 = 72\n",
      "8 * 10 = 80\n",
      "9 * 1 = 9\n",
      "9 * 2 = 18\n",
      "9 * 3 = 27\n",
      "9 * 4 = 36\n",
      "9 * 5 = 45\n",
      "9 * 6 = 54\n",
      "9 * 7 = 63\n",
      "9 * 8 = 72\n",
      "9 * 9 = 81\n",
      "9 * 10 = 90\n",
      "10 * 1 = 10\n",
      "10 * 2 = 20\n",
      "10 * 3 = 30\n",
      "10 * 4 = 40\n",
      "10 * 5 = 50\n",
      "10 * 6 = 60\n",
      "10 * 7 = 70\n",
      "10 * 8 = 80\n",
      "10 * 9 = 90\n",
      "10 * 10 = 100\n"
     ]
    }
   ],
   "source": [
    "def pretty_print(a: int, b: int) -> None:\n",
    "    print(f\"{a} * {b} = {a * b}\")\n",
    "\n",
    "for i in range(1, 11):\n",
    "    for j in range(1, 11):\n",
    "        pretty_print(i, j)"
   ]
  },
  {
   "cell_type": "markdown",
   "id": "be7e5ad6",
   "metadata": {},
   "source": [
    "### Задание 2.2: Поиск простых чисел\n",
    "Напишите функцию, которая находит все простые числа от 2 до заданного числа n. Используйте цикл for и проверку делимости."
   ]
  },
  {
   "cell_type": "code",
   "execution_count": 8,
   "id": "3ef3d656",
   "metadata": {},
   "outputs": [
    {
     "name": "stdout",
     "output_type": "stream",
     "text": [
      "2 3 5 7 11 13 17 19 23 29\n"
     ]
    }
   ],
   "source": [
    "n = 30\n",
    "\n",
    "def print_prime_nums(num: int) -> None:\n",
    "    primeNums = []\n",
    "\n",
    "    for i in range(2, num):\n",
    "        isPrime = True\n",
    "        for j in range(2, i):\n",
    "            if i % j == 0:\n",
    "                isPrime = False\n",
    "                break\n",
    "        if isPrime:\n",
    "            primeNums.append(str(i))\n",
    "\n",
    "    print(\" \".join(primeNums))\n",
    "\n",
    "print_prime_nums(n)"
   ]
  },
  {
   "cell_type": "markdown",
   "id": "9fe583eb",
   "metadata": {},
   "source": [
    "### Задание 2.3: Игра \"Угадай число\"\n",
    "Создайте игру, где компьютер загадывает случайное число от 1 до 100, а пользователь пытается его угадать. Программа должна:\n",
    "- Генерировать случайное число\n",
    "- Принимать ввод от пользователя\n",
    "- Давать подсказки \"больше\" или \"меньше\"\n",
    "- Считать количество попыток\n",
    "- Использовать цикл while"
   ]
  },
  {
   "cell_type": "code",
   "execution_count": 10,
   "id": "2cdc846b",
   "metadata": {},
   "outputs": [
    {
     "name": "stdout",
     "output_type": "stream",
     "text": [
      "My number is less than yours :D\n",
      "My number is less than yours :D\n",
      "My number is less than yours :D\n",
      "My number is less than yours :D\n",
      "My number is less than yours :D\n",
      "My number is less than yours :D\n",
      "My number is greater than yours :D\n",
      "My number is less than yours :D\n",
      "\n",
      "Congratulations! Number was -80\n",
      "Amount of guesses: 8\n"
     ]
    }
   ],
   "source": [
    "import random\n",
    "\n",
    "random_num = random.randint(-100, 100)\n",
    "user_input = 3 # int(input())\n",
    "\n",
    "if random_num == user_input:\n",
    "    print(\"You guessed the number!!!\")\n",
    "\n",
    "fail_counter = 0\n",
    "while (user_input != random_num):\n",
    "    if random_num > user_input:\n",
    "        print(\"My number is greater than yours :D\")\n",
    "        user_input = int(input())\n",
    "        fail_counter += 1\n",
    "    else:\n",
    "        print(\"My number is less than yours :D\")\n",
    "        user_input = int(input())\n",
    "        fail_counter += 1\n",
    "\n",
    "print(f\"\\nCongratulations! Number was {random_num}\")\n",
    "print(f\"Amount of guesses: {fail_counter}\")"
   ]
  },
  {
   "cell_type": "markdown",
   "id": "16b07278",
   "metadata": {},
   "source": [
    "### Задание 2.4: Анализ текста\n",
    "Напишите программу, которая анализирует текст и выводит:\n",
    "- Количество символов\n",
    "- Количество слов\n",
    "- Количество предложений\n",
    "- Самые частые слова (топ-5)\n",
    "\n",
    "Используйте циклы for для обработки текста."
   ]
  },
  {
   "cell_type": "markdown",
   "id": "c17b9c87",
   "metadata": {},
   "source": [
    "Text Format: \"word1 word2. word3 word4.\""
   ]
  },
  {
   "cell_type": "code",
   "execution_count": null,
   "id": "f8cde8d0",
   "metadata": {},
   "outputs": [
    {
     "name": "stdout",
     "output_type": "stream",
     "text": [
      "Symbols:  {'l', 'w', 'h', '.', '2', 'r', 'e', ' ', ',', 'd', 'o', 'x'}\n",
      "Amount of words:  5\n",
      "Amount of sentences:  2\n",
      "Top 5 most frequent words:\n",
      "hello: 2\n",
      "world: 2\n",
      "x2: 1\n"
     ]
    }
   ],
   "source": [
    "#           Text sample:\n",
    "# Hello my dear teacher, I love Python. I love Python. I love C++. This is already fifth sentence. I love C++.\n",
    "import string\n",
    "\n",
    "# text = input()\n",
    "text = \"hello, world. Hello, world x2\"\n",
    "\n",
    "# preprocessing = lower-case + remove punctuation\n",
    "preprocessed_text = text.lower()\n",
    "translator = str.maketrans('', '', string.punctuation)\n",
    "preprocessed_text = preprocessed_text.translate(translator) \n",
    "\n",
    "words = preprocessed_text.split()\n",
    "unique_words = set(words)\n",
    "symbols = set(text)\n",
    "\n",
    "sentences_num = len(text.split('. '))\n",
    "words_num = len(words)\n",
    "\n",
    "words_to_occurences = dict.fromkeys(words)\n",
    "for unique_word in set(words):\n",
    "    counter = 0\n",
    "    for word in words:\n",
    "        if unique_word == word:\n",
    "            counter += 1\n",
    "\n",
    "    words_to_occurences[unique_word] = counter\n",
    "    \n",
    "sorted_occurences = dict(sorted(words_to_occurences.items(), key=lambda item: item[1], reverse=True))\n",
    "\n",
    "print(\"Symbols: \", symbols)\n",
    "print(\"Amount of words: \", words_num)\n",
    "print(\"Amount of sentences: \", sentences_num)\n",
    "\n",
    "print(\"Top 5 most frequent words:\")\n",
    "for word, frequency in list(sorted_occurences.items())[:5]:\n",
    "    print(f\"{word}: {frequency}\") "
   ]
  },
  {
   "cell_type": "markdown",
   "id": "a2db1965",
   "metadata": {},
   "source": [
    "#### 3.1 Безопасный калькулятор\n",
    "\n",
    "Создайте калькулятор, который безопасно выполняет арифметические операции:\n",
    "- Принимает два числа и операцию (+, -, *, /)\n",
    "- Обрабатывает деление на ноль\n",
    "- Обрабатывает неверный ввод (не числа)\n",
    "- Обрабатывает неверные операции\n",
    "- Использует try-except-finally блоки"
   ]
  },
  {
   "cell_type": "code",
   "execution_count": null,
   "id": "320ee5f4",
   "metadata": {},
   "outputs": [
    {
     "name": "stdout",
     "output_type": "stream",
     "text": [
      "16.8\n",
      "5\n",
      "Error: you can't divide by zero\n",
      "Division a / b was executed\n"
     ]
    }
   ],
   "source": [
    "def calculator(a: float, b: float, operator) -> None:\n",
    "    operators = [\"+\", \"-\", \"*\", \"/\"]\n",
    "\n",
    "    assert operator in operators, \"Operator is not correc\"\n",
    "    typeCheck = (isinstance(a, float) or isinstance(a, int)) and (isinstance(b, float) or isinstance(b, int))\n",
    "    assert typeCheck, \"Expected float for 'a' and 'b'\"\n",
    "    \n",
    "    if operator == \"+\":\n",
    "        print(a + b)\n",
    "    elif operator == \"-\":\n",
    "        print(a - b)\n",
    "    elif operator == \"*\":\n",
    "        print(a * b)\n",
    "    elif operator == \"/\":\n",
    "        try:\n",
    "            result = a / b\n",
    "            print(result)\n",
    "        except ZeroDivisionError:\n",
    "            print(\"Error: you can't divide by zero\")\n",
    "        finally:\n",
    "            print(\"Division a / b was executed\")\n",
    "            \n",
    "\n",
    "calculator(8, 2.1, \"*\")\n",
    "calculator(2, 3, \"+\")\n",
    "calculator(1, 0, \"/\")"
   ]
  },
  {
   "cell_type": "markdown",
   "id": "13da00a4",
   "metadata": {},
   "source": [
    "### Задание 3.2: Чтение файла с обработкой ошибок\n",
    "Напишите функцию, которая:\n",
    "- Пытается прочитать файл\n",
    "- Обрабатывает FileNotFoundError\n",
    "- Обрабатывает PermissionError\n",
    "- Обрабатывает UnicodeDecodeError\n",
    "- Всегда выводит сообщение о завершении операции (finally)"
   ]
  },
  {
   "cell_type": "code",
   "execution_count": 13,
   "id": "917f0cbf",
   "metadata": {},
   "outputs": [],
   "source": [
    "def read_file(file_name: str) -> None:\n",
    "    try:\n",
    "        with open(file_name) as f:\n",
    "            content = f.read()\n",
    "            print(content)\n",
    "    except FileNotFoundError as error:\n",
    "        print(f\"File is not found. Following error was triggered: \\n\\t /// {error} ///\")\n",
    "    except PermissionError as error:\n",
    "        print(f\"Read access to the file is not granted. Following error was triggered: \\n\\t /// {error} ///\")\n",
    "    except UnicodeDecodeError as error:\n",
    "        print(f\"File cannot be decoded. Following error was triggered: \\n\\t /// {error} ///\")\n",
    "    finally:\n",
    "        print(\"\\nA file read operation was triggered\")\n"
   ]
  },
  {
   "cell_type": "code",
   "execution_count": 16,
   "id": "bd9c779c",
   "metadata": {},
   "outputs": [
    {
     "name": "stdout",
     "output_type": "stream",
     "text": [
      "Hello from file 'simple.txt'.\n",
      "This is correct file :D\n",
      "\n",
      "A file read operation was triggered\n"
     ]
    }
   ],
   "source": [
    "with open('valid.txt', 'w') as f:\n",
    "    f.write(\"Hello from file 'simple.txt'.\\nThis is correct file :D\")\n",
    "\n",
    "valid_file = \"valid.txt\"\n",
    "read_file(valid_file)"
   ]
  },
  {
   "cell_type": "code",
   "execution_count": null,
   "id": "754269e4",
   "metadata": {},
   "outputs": [
    {
     "name": "stdout",
     "output_type": "stream",
     "text": [
      "File is not found. Following error was triggered: \n",
      "\t /// [Errno 2] No such file or directory: 'WRONG.txt' ///\n",
      "\n",
      "A file read operation was triggered\n"
     ]
    }
   ],
   "source": [
    "wrong_name_file = \"WRONG.txt\"\n",
    "read_file(wrong_name_file)"
   ]
  },
  {
   "cell_type": "code",
   "execution_count": 19,
   "id": "2a49cd5f",
   "metadata": {},
   "outputs": [
    {
     "name": "stdout",
     "output_type": "stream",
     "text": [
      "File cannot be decoded. Following error was triggered: \n",
      "\t /// 'utf-8' codec can't decode byte 0xff in position 0: invalid start byte ///\n",
      "\n",
      "A file read operation was triggered\n"
     ]
    }
   ],
   "source": [
    "with open('invalid_utf8.txt', 'wb') as f:\n",
    "    f.write(b'\\xff\\xfe\\xfd')\n",
    "\n",
    "invalid_utf_file = \"invalid_utf8.txt\"\n",
    "read_file(invalid_utf_file)"
   ]
  },
  {
   "cell_type": "markdown",
   "id": "cf785f2d",
   "metadata": {},
   "source": [
    "### Задание 3.3: Кастомные исключения\n",
    "Создайте систему кастомных исключений для банковского приложения:\n",
    "- InsufficientFundsError (недостаточно средств)\n",
    "- InvalidAccountError (неверный номер счета)\n",
    "- TransactionLimitError (превышен лимит транзакций)\n",
    "- Реализуйте класс BankAccount с методами deposit, withdraw, transfer\n",
    "- Используйте ваши кастомные исключения"
   ]
  },
  {
   "cell_type": "code",
   "execution_count": null,
   "id": "f76085d8",
   "metadata": {},
   "outputs": [],
   "source": [
    "from typing import Any\n",
    "\n",
    "# 1\n",
    "class InsufficientFundsError(Exception):\n",
    "    def __init__(self, message: str = \"[Error] There are not enough funds in the bank account\"):\n",
    "        super().__init__(message)\n",
    "\n",
    "# 2\n",
    "class InvalidAccountError(Exception):\n",
    "    def __init__(self, message: str = \"[Error] Account number is invalid\"):\n",
    "        super().__init__(message)\n",
    "\n",
    "# 3\n",
    "class TransactionLimitError(Exception):\n",
    "    def __init__(self, message: str = \"[Error] Transaction limit exceeded\"):\n",
    "        super().__init__(message)\n",
    "\n",
    "# 4 (optional)\n",
    "class NegativeMoneyAmount(Exception):\n",
    "    def __init__(self, message: str = \"[Error] Money amount is negative\"):\n",
    "        super().__init__(message)\n",
    "\n",
    "\n",
    "class BankAccount:\n",
    "    def __init__(self, money: float, limit: int = 1000) -> None:\n",
    "        assert isinstance(money, (int, float)), \"Initial money must be a numeric id\"\n",
    "        assert isinstance(limit, int) and limit >= 0, \"Transaction limit must be a non-negative integer\"\n",
    "        self.money: float = float(money)\n",
    "        self.transactions_limit: int = limit\n",
    "\n",
    "    def __str__(self) -> str:\n",
    "        return f\"Bank account amount: {float(self.money)} USD\"\n",
    "\n",
    "    def deposit(self, amount: float) -> None:\n",
    "        assert isinstance(amount, (int, float)), \"Deposit amount must be numeric\"\n",
    "        if amount < 0:\n",
    "            raise NegativeMoneyAmount()\n",
    "        if self.transactions_limit <= 0:\n",
    "            raise TransactionLimitError()\n",
    "\n",
    "        self.money += amount\n",
    "        self.transactions_limit -= 1\n",
    "\n",
    "    def withdraw(self, amount: float) -> None:\n",
    "        assert isinstance(amount, (int, float)), \"Withdraw amount must be numeric\"\n",
    "        if amount < 0:\n",
    "            raise NegativeMoneyAmount()\n",
    "        if self.money < amount:\n",
    "            raise InsufficientFundsError()\n",
    "        if self.transactions_limit <= 0:\n",
    "            raise TransactionLimitError()\n",
    "\n",
    "        self.money -= amount\n",
    "        self.transactions_limit -= 1\n",
    "\n",
    "    def transfer(self, account: Any, amount: float) -> None:\n",
    "        if not isinstance(account, BankAccount):\n",
    "            raise InvalidAccountError()\n",
    "        assert isinstance(amount, (int, float)), \"Transfer amount must be numeric\"\n",
    "        if amount < 0:\n",
    "            raise NegativeMoneyAmount()\n",
    "        if self.money < amount:\n",
    "            raise InsufficientFundsError()\n",
    "        if self.transactions_limit <= 0:\n",
    "            raise TransactionLimitError()\n",
    "\n",
    "        self.money -= amount\n",
    "        self.transactions_limit -= 1\n",
    "        account.deposit(amount)"
   ]
  },
  {
   "cell_type": "code",
   "execution_count": 2,
   "id": "d7c65038",
   "metadata": {},
   "outputs": [
    {
     "name": "stdout",
     "output_type": "stream",
     "text": [
      "Bank account amount: 100.0 USD\n",
      "Bank account amount: 150.0 USD\n",
      "Bank account amount: 60.0 USD\n"
     ]
    },
    {
     "ename": "NegativeMoneyAmount",
     "evalue": "[Error] Money amount is negative",
     "output_type": "error",
     "traceback": [
      "\u001b[31m---------------------------------------------------------------------------\u001b[39m",
      "\u001b[31mNegativeMoneyAmount\u001b[39m                       Traceback (most recent call last)",
      "\u001b[36mCell\u001b[39m\u001b[36m \u001b[39m\u001b[32mIn[2]\u001b[39m\u001b[32m, line 7\u001b[39m\n\u001b[32m      5\u001b[39m acc1.withdraw(\u001b[32m90\u001b[39m)\n\u001b[32m      6\u001b[39m \u001b[38;5;28mprint\u001b[39m(acc1)\n\u001b[32m----> \u001b[39m\u001b[32m7\u001b[39m \u001b[43macc1\u001b[49m\u001b[43m.\u001b[49m\u001b[43mdeposit\u001b[49m\u001b[43m(\u001b[49m\u001b[43m-\u001b[49m\u001b[32;43m90\u001b[39;49m\u001b[43m)\u001b[49m\n",
      "\u001b[36mCell\u001b[39m\u001b[36m \u001b[39m\u001b[32mIn[1]\u001b[39m\u001b[32m, line 37\u001b[39m, in \u001b[36mBankAccount.deposit\u001b[39m\u001b[34m(self, amount)\u001b[39m\n\u001b[32m     35\u001b[39m \u001b[38;5;28;01massert\u001b[39;00m \u001b[38;5;28misinstance\u001b[39m(amount, (\u001b[38;5;28mint\u001b[39m, \u001b[38;5;28mfloat\u001b[39m)), \u001b[33m\"\u001b[39m\u001b[33mDeposit amount must be numeric\u001b[39m\u001b[33m\"\u001b[39m\n\u001b[32m     36\u001b[39m \u001b[38;5;28;01mif\u001b[39;00m amount < \u001b[32m0\u001b[39m:\n\u001b[32m---> \u001b[39m\u001b[32m37\u001b[39m     \u001b[38;5;28;01mraise\u001b[39;00m NegativeMoneyAmount()\n\u001b[32m     38\u001b[39m \u001b[38;5;28;01mif\u001b[39;00m \u001b[38;5;28mself\u001b[39m.transactions_limit <= \u001b[32m0\u001b[39m:\n\u001b[32m     39\u001b[39m     \u001b[38;5;28;01mraise\u001b[39;00m TransactionLimitError()\n",
      "\u001b[31mNegativeMoneyAmount\u001b[39m: [Error] Money amount is negative"
     ]
    }
   ],
   "source": [
    "acc1 = BankAccount(100)\n",
    "print(acc1)\n",
    "acc1.deposit(50)\n",
    "print(acc1)\n",
    "acc1.withdraw(90)\n",
    "print(acc1)\n",
    "acc1.deposit(-90)"
   ]
  },
  {
   "cell_type": "code",
   "execution_count": 3,
   "id": "e78ec66b",
   "metadata": {},
   "outputs": [
    {
     "name": "stdout",
     "output_type": "stream",
     "text": [
      "Bank account amount: 100.0 USD\n"
     ]
    },
    {
     "ename": "InsufficientFundsError",
     "evalue": "[Error] There are not enough funds in the bank account",
     "output_type": "error",
     "traceback": [
      "\u001b[31m---------------------------------------------------------------------------\u001b[39m",
      "\u001b[31mInsufficientFundsError\u001b[39m                    Traceback (most recent call last)",
      "\u001b[36mCell\u001b[39m\u001b[36m \u001b[39m\u001b[32mIn[3]\u001b[39m\u001b[32m, line 3\u001b[39m\n\u001b[32m      1\u001b[39m acc1 = BankAccount(\u001b[32m100\u001b[39m)\n\u001b[32m      2\u001b[39m \u001b[38;5;28mprint\u001b[39m(acc1)\n\u001b[32m----> \u001b[39m\u001b[32m3\u001b[39m \u001b[43macc1\u001b[49m\u001b[43m.\u001b[49m\u001b[43mwithdraw\u001b[49m\u001b[43m(\u001b[49m\u001b[32;43m101\u001b[39;49m\u001b[43m)\u001b[49m\n",
      "\u001b[36mCell\u001b[39m\u001b[36m \u001b[39m\u001b[32mIn[1]\u001b[39m\u001b[32m, line 49\u001b[39m, in \u001b[36mBankAccount.withdraw\u001b[39m\u001b[34m(self, amount)\u001b[39m\n\u001b[32m     47\u001b[39m     \u001b[38;5;28;01mraise\u001b[39;00m NegativeMoneyAmount()\n\u001b[32m     48\u001b[39m \u001b[38;5;28;01mif\u001b[39;00m \u001b[38;5;28mself\u001b[39m.money < amount:\n\u001b[32m---> \u001b[39m\u001b[32m49\u001b[39m     \u001b[38;5;28;01mraise\u001b[39;00m InsufficientFundsError()\n\u001b[32m     50\u001b[39m \u001b[38;5;28;01mif\u001b[39;00m \u001b[38;5;28mself\u001b[39m.transactions_limit <= \u001b[32m0\u001b[39m:\n\u001b[32m     51\u001b[39m     \u001b[38;5;28;01mraise\u001b[39;00m TransactionLimitError()\n",
      "\u001b[31mInsufficientFundsError\u001b[39m: [Error] There are not enough funds in the bank account"
     ]
    }
   ],
   "source": [
    "acc1 = BankAccount(100)\n",
    "print(acc1)\n",
    "acc1.withdraw(101)"
   ]
  },
  {
   "cell_type": "code",
   "execution_count": 4,
   "id": "51e3aad1",
   "metadata": {},
   "outputs": [
    {
     "ename": "TransactionLimitError",
     "evalue": "[Error] Transaction limit exceeded",
     "output_type": "error",
     "traceback": [
      "\u001b[31m---------------------------------------------------------------------------\u001b[39m",
      "\u001b[31mTransactionLimitError\u001b[39m                     Traceback (most recent call last)",
      "\u001b[36mCell\u001b[39m\u001b[36m \u001b[39m\u001b[32mIn[4]\u001b[39m\u001b[32m, line 3\u001b[39m\n\u001b[32m      1\u001b[39m acc1 = BankAccount(money=\u001b[32m100\u001b[39m, limit=\u001b[32m1\u001b[39m)\n\u001b[32m      2\u001b[39m acc1.deposit(\u001b[32m100\u001b[39m)\n\u001b[32m----> \u001b[39m\u001b[32m3\u001b[39m \u001b[43macc1\u001b[49m\u001b[43m.\u001b[49m\u001b[43mdeposit\u001b[49m\u001b[43m(\u001b[49m\u001b[32;43m200\u001b[39;49m\u001b[43m)\u001b[49m\n\u001b[32m      4\u001b[39m acc1.deposit(\u001b[32m200\u001b[39m)\n\u001b[32m      5\u001b[39m acc1.withdraw(\u001b[32m100\u001b[39m)\n",
      "\u001b[36mCell\u001b[39m\u001b[36m \u001b[39m\u001b[32mIn[1]\u001b[39m\u001b[32m, line 39\u001b[39m, in \u001b[36mBankAccount.deposit\u001b[39m\u001b[34m(self, amount)\u001b[39m\n\u001b[32m     37\u001b[39m     \u001b[38;5;28;01mraise\u001b[39;00m NegativeMoneyAmount()\n\u001b[32m     38\u001b[39m \u001b[38;5;28;01mif\u001b[39;00m \u001b[38;5;28mself\u001b[39m.transactions_limit <= \u001b[32m0\u001b[39m:\n\u001b[32m---> \u001b[39m\u001b[32m39\u001b[39m     \u001b[38;5;28;01mraise\u001b[39;00m TransactionLimitError()\n\u001b[32m     41\u001b[39m \u001b[38;5;28mself\u001b[39m.money += amount\n\u001b[32m     42\u001b[39m \u001b[38;5;28mself\u001b[39m.transactions_limit -= \u001b[32m1\u001b[39m\n",
      "\u001b[31mTransactionLimitError\u001b[39m: [Error] Transaction limit exceeded"
     ]
    }
   ],
   "source": [
    "acc1 = BankAccount(money=100, limit=1)\n",
    "acc1.deposit(100)\n",
    "acc1.deposit(200)\n",
    "acc1.deposit(200)\n",
    "acc1.withdraw(100)\n",
    "acc1.withdraw(100)\n",
    "acc1.withdraw(100)\n",
    "\n",
    "print(acc1)"
   ]
  },
  {
   "cell_type": "code",
   "execution_count": 5,
   "id": "bb54e9cd",
   "metadata": {},
   "outputs": [
    {
     "name": "stdout",
     "output_type": "stream",
     "text": [
      "Bank account amount: 100.0 USD Bank account amount: 200.0 USD\n",
      "Bank account amount: 50.0 USD Bank account amount: 250.0 USD\n"
     ]
    }
   ],
   "source": [
    "acc1 = BankAccount(money=100)\n",
    "acc2 = BankAccount(money=200)\n",
    "print(acc1, acc2)\n",
    "acc1.transfer(account=acc2, amount=50)\n",
    "print(acc1, acc2)"
   ]
  },
  {
   "cell_type": "code",
   "execution_count": 6,
   "id": "85e1da86",
   "metadata": {},
   "outputs": [
    {
     "ename": "InvalidAccountError",
     "evalue": "[Error] Account number is invalid",
     "output_type": "error",
     "traceback": [
      "\u001b[31m---------------------------------------------------------------------------\u001b[39m",
      "\u001b[31mInvalidAccountError\u001b[39m                       Traceback (most recent call last)",
      "\u001b[36mCell\u001b[39m\u001b[36m \u001b[39m\u001b[32mIn[6]\u001b[39m\u001b[32m, line 2\u001b[39m\n\u001b[32m      1\u001b[39m acc1 = BankAccount(money=\u001b[32m100\u001b[39m)\n\u001b[32m----> \u001b[39m\u001b[32m2\u001b[39m \u001b[43macc1\u001b[49m\u001b[43m.\u001b[49m\u001b[43mtransfer\u001b[49m\u001b[43m(\u001b[49m\u001b[43maccount\u001b[49m\u001b[43m=\u001b[49m\u001b[43m{\u001b[49m\u001b[43m}\u001b[49m\u001b[43m,\u001b[49m\u001b[43m \u001b[49m\u001b[43mamount\u001b[49m\u001b[43m=\u001b[49m\u001b[32;43m50\u001b[39;49m\u001b[43m)\u001b[49m\n",
      "\u001b[36mCell\u001b[39m\u001b[36m \u001b[39m\u001b[32mIn[1]\u001b[39m\u001b[32m, line 58\u001b[39m, in \u001b[36mBankAccount.transfer\u001b[39m\u001b[34m(self, account, amount)\u001b[39m\n\u001b[32m     56\u001b[39m \u001b[38;5;28;01mdef\u001b[39;00m\u001b[38;5;250m \u001b[39m\u001b[34mtransfer\u001b[39m(\u001b[38;5;28mself\u001b[39m, account: Any, amount: \u001b[38;5;28mfloat\u001b[39m) -> \u001b[38;5;28;01mNone\u001b[39;00m:\n\u001b[32m     57\u001b[39m     \u001b[38;5;28;01mif\u001b[39;00m \u001b[38;5;129;01mnot\u001b[39;00m \u001b[38;5;28misinstance\u001b[39m(account, BankAccount):\n\u001b[32m---> \u001b[39m\u001b[32m58\u001b[39m         \u001b[38;5;28;01mraise\u001b[39;00m InvalidAccountError()\n\u001b[32m     59\u001b[39m     \u001b[38;5;28;01massert\u001b[39;00m \u001b[38;5;28misinstance\u001b[39m(amount, (\u001b[38;5;28mint\u001b[39m, \u001b[38;5;28mfloat\u001b[39m)), \u001b[33m\"\u001b[39m\u001b[33mTransfer amount must be numeric\u001b[39m\u001b[33m\"\u001b[39m\n\u001b[32m     60\u001b[39m     \u001b[38;5;28;01mif\u001b[39;00m amount < \u001b[32m0\u001b[39m:\n",
      "\u001b[31mInvalidAccountError\u001b[39m: [Error] Account number is invalid"
     ]
    }
   ],
   "source": [
    "acc1 = BankAccount(money=100)\n",
    "acc1.transfer(account={}, amount=50)"
   ]
  },
  {
   "cell_type": "markdown",
   "id": "f14144c8",
   "metadata": {},
   "source": [
    "### Задание 4.1: Кастомный итератор\n",
    "Создайте класс, который реализует итератор для последовательности Фибоначчи:\n",
    "- Реализуйте методы __iter__ и __next__\n",
    "- Ограничьте количество итераций параметром max_iterations\n",
    "- Обработайте исключение StopIteration"
   ]
  },
  {
   "cell_type": "code",
   "execution_count": null,
   "id": "dd2220a5",
   "metadata": {},
   "outputs": [
    {
     "name": "stdout",
     "output_type": "stream",
     "text": [
      "0\n",
      "1\n",
      "1\n",
      "Raised [StopIteration]. Number of iterations exceeded\n"
     ]
    }
   ],
   "source": [
    "class FibonacciSequence:\n",
    "    '''\n",
    "        Class, which follows Iterator structure (__iter__, __next__) and iterate through the fibonacci sequence\n",
    "        \n",
    "        Args:\n",
    "            max_iterations - param, which sets maximum iterations\n",
    "    '''\n",
    "\n",
    "    def __init__(self, max_iterations : int = 3):\n",
    "        self.prev = 0\n",
    "        self.curr = 1\n",
    "        self.max_iterations = max_iterations\n",
    "\n",
    "    def __iter__(self):\n",
    "        return self\n",
    "\n",
    "    def __next__(self):\n",
    "        if self.max_iterations <= 0:\n",
    "            raise StopIteration\n",
    "\n",
    "        result : int = self.prev\n",
    "        self.prev, self.curr = self.curr, self.prev + self.curr\n",
    "        self.max_iterations -= 1\n",
    "\n",
    "        return result\n",
    "\n",
    "### Code example\n",
    "\n",
    "sequence = FibonacciSequence()\n",
    "sequence_iterator = iter(sequence)\n",
    "\n",
    "try:\n",
    "    while(True):\n",
    "        print(next(sequence))\n",
    "except StopIteration:\n",
    "    print(\"Raised [StopIteration]. Number of iterations exceeded\")"
   ]
  },
  {
   "cell_type": "markdown",
   "id": "d5e27513",
   "metadata": {},
   "source": [
    "### Задание 4.2: Генератор простых чисел\n",
    "Напишите генератор, который выдает простые числа:\n",
    "- Используйте yield для генерации чисел\n",
    "- Реализуйте эффективный алгоритм проверки простоты\n",
    "- Добавьте возможность ограничить количество генерируемых чисел"
   ]
  },
  {
   "cell_type": "code",
   "execution_count": null,
   "id": "d6e5b294",
   "metadata": {},
   "outputs": [
    {
     "name": "stdout",
     "output_type": "stream",
     "text": [
      "2\n",
      "3\n",
      "5\n",
      "7\n",
      "11\n",
      "13\n",
      "17\n",
      "19\n",
      "23\n",
      "29\n",
      "31\n",
      "37\n",
      "41\n",
      "43\n",
      "47\n"
     ]
    }
   ],
   "source": [
    "from math import sqrt\n",
    "\n",
    "def generate_primes(max_iterations : int = 15):\n",
    "    '''\n",
    "        Generator function, which iterates through prime numbers (starting from 2)\n",
    "        Prime check is performed up to the \"sqrt(curr_num)\", as if curr_num have dividers, which are greater \"sqrt(curr_num)\",\n",
    "                then it does have dividers, which are less than \"sqrt(curr_num)\"\n",
    "        Prime check ignores every even numbers after 2 (which is why it yields 2 separately)\n",
    "        \n",
    "\n",
    "        Yields:\n",
    "            next prime number\n",
    "\n",
    "        Args:\n",
    "            max_iterations (> 0) - param, which sets maximum iterations\n",
    "    '''\n",
    "\n",
    "    # Raise AssertionError if max_iterations is <= 0\n",
    "    assert max_iterations > 0, \"Input param 'max_iterations' must be greater than 0\"\n",
    "\n",
    "    curr_number : int = 2\n",
    "    iter_count : int = 0\n",
    "\n",
    "    # Yield 2 separately (to skip every next even numbers after 2 later)\n",
    "    yield curr_number\n",
    "    \n",
    "    # Current number is now 3. One iteration was performed\n",
    "    iter_count += 1\n",
    "    curr_number = 3\n",
    "\n",
    "    while iter_count < max_iterations:\n",
    "        isPrime : bool = True\n",
    "        for divider in range(2, int(sqrt(curr_number)) + 1): # range(2, sqrt(curr) + 1)\n",
    "            if curr_number % divider == 0:\n",
    "                isPrime = False\n",
    "                break\n",
    "        if isPrime:\n",
    "            iter_count += 1\n",
    "            yield curr_number\n",
    "        \n",
    "        # Increment by 2, because we skip even numbers\n",
    "        curr_number += 2\n",
    "\n",
    "\n",
    "### Code example\n",
    "\n",
    "prime_generator = generate_primes()\n",
    "\n",
    "try:\n",
    "    for num in prime_generator:\n",
    "        print(num)\n",
    "except StopIteration:\n",
    "    print(\"Raised [StopIteration]. Number of iterations exceeded\")"
   ]
  },
  {
   "cell_type": "markdown",
   "id": "98953434",
   "metadata": {},
   "source": [
    "### Задание 4.3: Генератор с send()\n",
    "Создайте генератор, который:\n",
    "- Генерирует последовательность квадратов чисел\n",
    "- Принимает через send() новое начальное значение\n",
    "- Может быть сброшен к новому начальному значению\n",
    "- Логирует все операции"
   ]
  },
  {
   "cell_type": "code",
   "execution_count": 20,
   "id": "89f5cc78",
   "metadata": {},
   "outputs": [
    {
     "name": "stdout",
     "output_type": "stream",
     "text": [
      "1\n",
      "4\n",
      "9\n",
      "16\n",
      "25\n",
      "36\n",
      "49\n",
      "\n",
      "10000\n",
      "10201\n",
      "10404\n",
      "10609\n"
     ]
    }
   ],
   "source": [
    "import logging\n",
    "\n",
    "def squares_generator(init_value: int = 1):\n",
    "    '''\n",
    "        Generator that yields the square of a number, starting from `init_id`.\n",
    "        Each call to next() or send(None) increments the number by 1 and yields its square.\n",
    "        If send() is called with an integer, the generator resets to that value and yields its square.\n",
    "        All actions are logged to 'squares_logger.log'.\n",
    "\n",
    "        Args:\n",
    "            init_value (int, optional): The starting integer value. Defaults to 1.\n",
    "\n",
    "        Yields:\n",
    "            int: The square of the current number.\n",
    "\n",
    "        Raises:\n",
    "            ValueError: If `init_value` or a value sent to the generator is not an integer.\n",
    "    '''\n",
    "    \n",
    "    # Int-verification of init_value\n",
    "    if not isinstance(init_value, int):\n",
    "        raise ValueError(\"Param 'init_value' must be an integer\")\n",
    "\n",
    "    # Init custom logger inside generator\n",
    "    _logger = logging.getLogger('squares_logger')\n",
    "    _logger.setLevel(logging.INFO)\n",
    "\n",
    "    handler = logging.FileHandler('squares_logger.log', mode='w')\n",
    "    formatter = logging.Formatter('%(name)s %(asctime)s %(levelname)s %(message)s')\n",
    "    handler.setFormatter(formatter)\n",
    "    _logger.addHandler(handler)\n",
    "    _logger.propagate = False\n",
    "\n",
    "\n",
    "    number: int = init_value\n",
    "    _logger.info(f\"Generator started with initial value: {number}\")\n",
    "\n",
    "    while True:\n",
    "        _logger.info(f\"Calculating square of current number: {number}\")\n",
    "        new_number = yield (number ** 2)\n",
    "\n",
    "        # Default processing (send(None) or next() called)\n",
    "        if new_number is None:\n",
    "            _logger.info(f\"Received None from send() or next(): Increment value\")\n",
    "            number += 1\n",
    "        # Restarting generator (param from send() is not None)\n",
    "        else:\n",
    "            if not isinstance(new_number, int): # Int-verification of new value \n",
    "                _logger.error(f\"Param from send {new_number} is not an integer. Raise ValueError\")\n",
    "                raise ValueError(\"Param from send() must be an integer\")\n",
    "    \n",
    "            _logger.info(f\"Received new value: {new_number}, resetting generator\")\n",
    "            number = new_number\n",
    "\n",
    "\n",
    "# Code example\n",
    "\n",
    "gensquares = squares_generator()\n",
    "\n",
    "for i in range(7):\n",
    "    print(next(gensquares))\n",
    "print(\"\")\n",
    "print(gensquares.send(100))\n",
    "print(next(gensquares))\n",
    "print(next(gensquares))\n",
    "print(next(gensquares))\n",
    "try:\n",
    "    print(gensquares.send('non-int'))\n",
    "except:\n",
    "    pass"
   ]
  },
  {
   "cell_type": "markdown",
   "id": "728b70bc",
   "metadata": {},
   "source": [
    "### Задание 4.4: Рекурсивный генератор\n",
    "Реализуйте генератор для обхода дерева:\n",
    "- Создайте класс TreeNode с дочерними узлами\n",
    "- Напишите рекурсивный генератор для обхода дерева в глубину\n",
    "- Добавьте возможность обхода в ширину"
   ]
  },
  {
   "cell_type": "code",
   "execution_count": null,
   "id": "5feaa98f",
   "metadata": {},
   "outputs": [
    {
     "name": "stdout",
     "output_type": "stream",
     "text": [
      "DFS sequnce:\n",
      "1 2 4 5 3 \n",
      "\n",
      "BFS sequence:\n",
      "1 2 3 4 5 \n"
     ]
    }
   ],
   "source": [
    "from typing import Any, List, Optional\n",
    "from collections import deque\n",
    "\n",
    "class TreeNode:\n",
    "    '''\n",
    "        Class, representing tree node\n",
    "\n",
    "        Attributes:\n",
    "            id: unique node identificator\n",
    "            children: list of TreeNode type objects ([] if leaf node)\n",
    "    '''\n",
    "    def __init__(self, id: Any, children: Optional[List['TreeNode']] = None):\n",
    "        self.id = id\n",
    "        self.children = children if children is not None else []\n",
    "\n",
    "def traverse_tree(root: Optional[TreeNode], mode: str = 'dfs'):\n",
    "    '''\n",
    "        A generator for traversing a tree in depth (DFS) or in breadth (BFS).\n",
    "\n",
    "        Args:\n",
    "            root : Root node. \n",
    "            mode (str): Search mode. Possible values:\n",
    "                - 'dfs'\n",
    "                - 'bfs'\n",
    "\n",
    "        Yields:\n",
    "            Any: Value of current node ID in search.\n",
    "\n",
    "        Raises:\n",
    "            ValueError: If param \"mode\" is not 'dfs' or 'bfs'.\n",
    "    '''\n",
    "\n",
    "    # Mode verification\n",
    "    if mode not in ('dfs', 'bfs'):\n",
    "        raise ValueError(\"Mode must be 'dfs' or 'bfs'\")\n",
    "    \n",
    "    # Non-empty root node verification\n",
    "    if root is None:\n",
    "        return\n",
    "    \n",
    "    if mode == 'dfs':\n",
    "        # DFS: recursive yield\n",
    "        yield root.id\n",
    "        for child in root.children:\n",
    "            yield from traverse_tree(child, mode)\n",
    "    \n",
    "    else:  # mode == 'bfs'\n",
    "        # BFS: yield with use of deque\n",
    "        queue = deque([root])\n",
    "        while queue:\n",
    "            node = queue.popleft()\n",
    "            yield node.id\n",
    "            queue.extend(node.children)\n",
    "\n",
    "\n",
    "# Code example\n",
    "\n",
    "# Create tree with following structure\n",
    "#       1\n",
    "#      / \\\n",
    "#     2   3\n",
    "#    / \\\n",
    "#   4   5\n",
    "root = TreeNode(1, [\n",
    "    TreeNode(2, [TreeNode(4), TreeNode(5)]),\n",
    "    TreeNode(3)\n",
    "])\n",
    "\n",
    "# DFS (depth first search) \n",
    "print(\"DFS sequnce:\")\n",
    "for value in traverse_tree(root, 'dfs'):\n",
    "    print(value, end=\" \")  # Expected: 1 2 4 5 3\n",
    "print(\"\\n\")\n",
    "\n",
    "# BFS (breadth first search)\n",
    "print(\"BFS sequence:\")\n",
    "for value in traverse_tree(root, 'bfs'):\n",
    "    print(value, end=\" \")  # Expected: 1 2 3 4 5\n",
    "print()"
   ]
  },
  {
   "cell_type": "markdown",
   "id": "d424fcf4",
   "metadata": {},
   "source": [
    "### Задание 5.1: Система логирования для веб-приложения\n",
    "Создайте систему логирования для имитации веб-приложения:\n",
    "- Настройте разные логгеры для разных компонентов (auth, database, api)\n",
    "- Используйте разные уровни логирования\n",
    "- Настройте ротацию логов по времени\n",
    "- Логируйте запросы, ошибки, успешные операции"
   ]
  },
  {
   "cell_type": "code",
   "execution_count": null,
   "id": "3c280973",
   "metadata": {},
   "outputs": [],
   "source": [
    "import logging\n",
    "\n",
    "# Init auth logger\n",
    "auth_logger = logging.getLogger('auth')\n",
    "auth_logger.setLevel(logging.INFO)\n",
    "auth_handler = logging.handlers.TimedRotatingFileHandler('auth.log', when='h', interval=1)\n",
    "\n",
    "# Init database logger\n",
    "db_logger = logging.getLogger('db')\n",
    "db_logger.setLevel(logging.INFO)\n",
    "db_handler = logging.handlers.TimedRotatingFileHandler('db.log', when='midnight', interval=1)\n",
    "\n",
    "# Init API logger\n",
    "api_logger = logging.getLogger('api')\n",
    "api_logger.setLevel(logging.DEBUG)\n",
    "api_handler = logging.handlers.TimedRotatingFileHandler('api.log', when='h', interval=1)\n",
    "\n",
    "# Set general formatter\n",
    "formatter = logging.Formatter('%(name)s %(asctime)s %(levelname)s %(message)s') \n",
    "auth_handler.setFormatter(formatter)\n",
    "db_handler.setFormatter(formatter)\n",
    "api_handler.setFormatter(formatter)\n",
    "\n",
    "\n",
    "# Link handlers to each loggers\n",
    "auth_logger.addHandler(auth_handler)\n",
    "db_logger.addHandler(db_handler)\n",
    "api_logger.addHandler(api_handler)\n",
    "\n",
    "# auth_logger.propagate = False\n",
    "# db_logger.propagate = False\n",
    "# api_logger.propagate = False\n",
    "\n",
    "### Code example\n",
    "\n",
    "import random\n",
    "\n",
    "def simulate_failure(failure_rate = 0.2) -> bool:\n",
    "    '''Function to simulate failures in web app'''\n",
    "    return random.random() < failure_rate\n",
    "\n",
    "\n",
    "def handle_auth_request(request) -> None:\n",
    "    if simulate_failure():\n",
    "        auth_logger.warning(f\"Failed login attempt: {request}\")\n",
    "    else:\n",
    "        auth_logger.info(f\"User logged in: {request}\")\n",
    "\n",
    "def handle_db_request(request) -> None:\n",
    "    if simulate_failure(failure_rate = 0.1):\n",
    "        db_logger.warning(f\"Failed database request: {request}\")\n",
    "    else:\n",
    "        db_logger.info(f\"Database request handled: {request}\")\n",
    "\n",
    "def handle_api_request(request) -> None:\n",
    "    if simulate_failure(failure_rate=0.05):\n",
    "        api_logger.error(f\"API error: {request}\")\n",
    "    else:\n",
    "        api_logger.info(f\"API request handled: {request}\")\n",
    "\n",
    "request_to_component = {\n",
    "    'POST /login': 'auth',\n",
    "    'GET /users': 'db',\n",
    "    'PUT /user/1': 'db',\n",
    "    'GET /products': 'db',\n",
    "    'DELETE /product/1': 'db',\n",
    "    'GET /health': 'api',\n",
    "}\n",
    "\n",
    "for request, component in request_to_component.items():\n",
    "    if component == \"auth\":\n",
    "        handle_auth_request(request)\n",
    "    elif component == \"db\":\n",
    "        handle_db_request(request)\n",
    "    else:\n",
    "        handle_api_request(request)"
   ]
  },
  {
   "cell_type": "markdown",
   "id": "e7f9c541",
   "metadata": {},
   "source": [
    "### Задание 5.2: Логирование с контекстом\n",
    "Реализуйте систему логирования с контекстной информацией:\n",
    "- Добавляйте к каждому логу информацию о пользователе\n",
    "- Включайте timestamp и уникальный ID запроса\n",
    "- Используйте структурированное логирование (JSON формат)\n",
    "- Создайте декоратор для автоматического логирования функций"
   ]
  },
  {
   "cell_type": "code",
   "execution_count": null,
   "id": "04eade26",
   "metadata": {},
   "outputs": [],
   "source": [
    "import logging\n",
    "import json\n",
    "from datetime import datetime\n",
    "\n",
    "# P.S. in continuation of the previous task about the web application (simulation)\n",
    "\n",
    "# Global context information (updatable)\n",
    "CURRENT_CONTEXT = {\n",
    "    \"request_id\": \"unknown\",\n",
    "    \"user_id\": \"anonymous\"\n",
    "}\n",
    "\n",
    "# Function to set context depending on the request\n",
    "def set_context(request_id: str, user_id: str):\n",
    "    CURRENT_CONTEXT[\"request_id\"] = request_id\n",
    "    CURRENT_CONTEXT[\"user_id\"] = user_id\n",
    "\n",
    "# Custom Json Formatter\n",
    "class JsonFormatter(logging.Formatter):\n",
    "    def format(self, record):\n",
    "        log = {\n",
    "            \"timestamp\": datetime.fromtimestamp(record.created).strftime(\"%Y-%m-%d %H:%M:%S\"),\n",
    "            \"level\": record.levelname,\n",
    "            \"logger\": record.name,\n",
    "            \"message\": record.getMessage(),\n",
    "            \"request_id\": CURRENT_CONTEXT[\"request_id\"],\n",
    "            \"user_id\": CURRENT_CONTEXT[\"user_id\"]\n",
    "        }\n",
    "        return json.dumps(log, ensure_ascii=False)\n",
    "\n",
    "# Init common logger\n",
    "logger = logging.getLogger(\"app\")\n",
    "logger.setLevel(logging.DEBUG)\n",
    "handler = logging.FileHandler(\"app.log\")\n",
    "handler.setFormatter(JsonFormatter())\n",
    "logger.addHandler(handler)\n",
    "# logger.propagate = False\n",
    "\n",
    "# Decorator for automatic function logging\n",
    "def log_function(func):\n",
    "    def wrapper(*args, **kwargs):\n",
    "        logger.debug(f\"Calling {func.__name__}\")\n",
    "        try:\n",
    "            result = func(*args, **kwargs)\n",
    "            logger.debug(f\"{func.__name__} returned: {result}\")\n",
    "            return result\n",
    "        except Exception as e:\n",
    "            logger.error(f\"{func.__name__} failed: {e}\")\n",
    "    return wrapper\n",
    "\n",
    "# Dummy login request\n",
    "@log_function\n",
    "def login(user_id: str):\n",
    "    logger.info(\"User login attempt\")\n",
    "    if user_id == \"blocked\":\n",
    "        logger.warning(\"Login denied\")\n",
    "        return False\n",
    "    logger.info(\"Login successful\")\n",
    "    return True\n",
    "\n",
    "# Dummy get_data() request\n",
    "@log_function\n",
    "def get_data():\n",
    "    logger.info(\"Fetching data from DB\")\n",
    "    return [\"item1\", \"item2\"]\n",
    "\n",
    "\n",
    "### Code example\n",
    "\n",
    "requests = [\n",
    "    (\"login\", \"alice\"),\n",
    "    (\"login\", \"blocked\"),\n",
    "    (\"data\", \"bob\"),\n",
    "]\n",
    "\n",
    "for i, (action, user) in enumerate(requests):\n",
    "    set_context(request_id=str(i), user_id=user)\n",
    "    \n",
    "    if action == \"login\":\n",
    "        login(user)\n",
    "    elif action == \"data\":\n",
    "        get_data()"
   ]
  },
  {
   "cell_type": "markdown",
   "id": "02301725",
   "metadata": {},
   "source": [
    "### Задание 5.3: Мониторинг производительности\n",
    "Создайте систему мониторинга производительности:\n",
    "- Логируйте время выполнения функций\n",
    "- Отслеживайте использование памяти\n",
    "- Создайте алерты при превышении пороговых значений\n",
    "- Используйте разные уровни для разных типов метрик"
   ]
  },
  {
   "cell_type": "code",
   "execution_count": 1,
   "id": "21192180",
   "metadata": {},
   "outputs": [
    {
     "name": "stderr",
     "output_type": "stream",
     "text": [
      "2025-09-25 18:04:01,844 - INFO - Function 'fast_function' executed in 0.1012 seconds\n",
      "2025-09-25 18:04:01,846 - INFO - Function 'fast_function' used peak memory: 0.03 MB\n",
      "2025-09-25 18:04:02,463 - ERROR - Function 'slow_function' executed in 0.6140 seconds\n",
      "2025-09-25 18:04:02,465 - INFO - Function 'slow_function' used peak memory: 0.41 MB\n",
      "2025-09-25 18:04:04,851 - ERROR - Function 'memory_heavy_function' executed in 2.3827 seconds\n",
      "2025-09-25 18:04:04,853 - ERROR - Function 'memory_heavy_function' used peak memory: 77.75 MB\n"
     ]
    }
   ],
   "source": [
    "import logging\n",
    "import time\n",
    "import tracemalloc\n",
    "from typing import Callable\n",
    "\n",
    "# Init logger with console handler\n",
    "performance_logger = logging.getLogger(\"performance\")\n",
    "performance_logger.setLevel(logging.DEBUG)\n",
    "\n",
    "handler = logging.StreamHandler()\n",
    "formatter = logging.Formatter('%(asctime)s - %(levelname)s - %(message)s')\n",
    "handler.setFormatter(formatter)\n",
    "performance_logger.addHandler(handler)\n",
    "performance_logger.propagate = False\n",
    "\n",
    "# Custom thresholds (to define logging.level)\n",
    "TIME_THRESHOLD = 0.5      # seconds\n",
    "MEMORY_THRESHOLD_MB = 50  # MB\n",
    "\n",
    "def monitor_call(func : Callable, *args, **kwargs):\n",
    "    \"\"\"\n",
    "        Function method_call() calls Callable arg 'func' and log time execution and memory usage\n",
    "    \"\"\"\n",
    "    # Init tracemalloc, if it is not running yet\n",
    "    if not tracemalloc.is_tracing():\n",
    "        tracemalloc.start()\n",
    "    \n",
    "    tracemalloc.reset_peak() # Reset before calling func()\n",
    "    start_time = time.perf_counter() # Timer start\n",
    "    \n",
    "    try:\n",
    "        result = func(*args, **kwargs)\n",
    "    finally:\n",
    "        end_time = time.perf_counter()\n",
    "        current_memory, peak_memory = tracemalloc.get_traced_memory()\n",
    "        elapsed_time = end_time - start_time\n",
    "        peak_memory_mb = peak_memory / (1024 * 1024)  # bytes -> MB\n",
    "\n",
    "    # Define logging level based on (global) thresholds\n",
    "    time_level = logging.ERROR if elapsed_time > TIME_THRESHOLD else logging.INFO\n",
    "    mem_level = logging.ERROR if peak_memory_mb > MEMORY_THRESHOLD_MB else logging.INFO\n",
    "\n",
    "    # Logging information about execution time\n",
    "    performance_logger.log(\n",
    "        time_level,\n",
    "        f\"Function '{func.__name__}' executed in {elapsed_time:.4f} seconds\"\n",
    "    )\n",
    "    \n",
    "    # Logging information about memory\n",
    "    performance_logger.log(\n",
    "        mem_level,\n",
    "        f\"Function '{func.__name__}' used peak memory: {peak_memory_mb:.2f} MB\"\n",
    "    )\n",
    "    \n",
    "    return result\n",
    "\n",
    "### Code usage\n",
    "\n",
    "# Dummy functions to validate execution time \n",
    "def fast_function():\n",
    "    time.sleep(0.1)\n",
    "    return [i for i in range(1000)]\n",
    "\n",
    "def slow_function():\n",
    "    time.sleep(0.6)  # will fail at validation\n",
    "    return [i for i in range(10000)]\n",
    "\n",
    "# Dummy function to validate memory (fail)\n",
    "def memory_heavy_function():\n",
    "    return [i for i in range(2_000_000)]\n",
    "\n",
    "\n",
    "_ = monitor_call(fast_function)\n",
    "_ = monitor_call(slow_function)\n",
    "_ = monitor_call(memory_heavy_function)"
   ]
  },
  {
   "cell_type": "markdown",
   "id": "56455e76",
   "metadata": {},
   "source": [
    "### Задание 6.1: Чистые функции\n",
    "Создайте набор чистых функций для работы с математическими операциями:\n",
    "- Функции для базовых операций (сложение, вычитание, умножение, деление)\n",
    "- Функции для работы с векторами (скалярное произведение, норма)\n",
    "- Функции для работы с матрицами (транспонирование, умножение)\n",
    "- Убедитесь, что все функции являются чистыми (детерминированными и без побочных эффектов)"
   ]
  },
  {
   "cell_type": "code",
   "execution_count": 18,
   "id": "1064b61f",
   "metadata": {},
   "outputs": [],
   "source": [
    "from typing import List\n",
    "from math import sqrt\n",
    "\n",
    "# Aliases for type hints\n",
    "Number = int | float\n",
    "Vector = List[Number]\n",
    "Matrix = List[List[Number]]\n",
    "\n",
    "### Functions to work with numbers\n",
    "def add(a: Number, b: Number) -> Number:\n",
    "    if not isinstance(a, (int, float)) or not isinstance(b, (int, float)):\n",
    "        raise TypeError(\"Arguments must be numbers\")\n",
    "    return a + b\n",
    "\n",
    "def subtract(a: Number, b: Number) -> Number:\n",
    "    if not isinstance(a, (int, float)) or not isinstance(b, (int, float)):\n",
    "        raise TypeError(\"Arguments must be numbers\")\n",
    "    return a - b\n",
    "\n",
    "def multiply(a: Number, b: Number) -> Number:\n",
    "    if not isinstance(a, (int, float)) or not isinstance(b, (int, float)):\n",
    "        raise TypeError(\"Arguments must be numbers\")\n",
    "    return a * b\n",
    "\n",
    "def divide(a: Number, b: Number) -> float:\n",
    "    if not isinstance(a, (int, float)) or not isinstance(b, (int, float)):\n",
    "        raise TypeError(\"Arguments must be numbers\")\n",
    "    if b == 0:\n",
    "        raise ZeroDivisionError(\"Division by zero is not allowed\")\n",
    "    return a / b\n",
    "\n",
    "\n",
    "\n",
    "### Functions to work with vectors\n",
    "def scalar_product(vec1: Vector, vec2: Vector) -> Number:\n",
    "    if not vec1 or not vec2:\n",
    "        raise ValueError(\"Vectors must not be empty\")\n",
    "    if len(vec1) != len(vec2):\n",
    "        raise ValueError(\"Vectors must have the same length\")\n",
    "    # Optional: check if elements are numbers\n",
    "    # if not all(isinstance(x, (int, float)) for x in vec1 + vec2):\n",
    "    #     raise TypeError(\"All elements must be numbers\")\n",
    "    \n",
    "    return sum(x * y for x, y in zip(vec1, vec2))\n",
    "\n",
    "def vector_norm(vec: Vector) -> float:\n",
    "    if not vec:\n",
    "        raise ValueError(\"Vector must not be None\")\n",
    "    # Optional: check if elements are numbers\n",
    "    # if not all(isinstance(x, (int, float)) for x in vec):\n",
    "    #     raise TypeError(\"All elements must be numbers\")\n",
    "    \n",
    "    return sqrt(sum(x ** 2 for x in vec))\n",
    "\n",
    "\n",
    "\n",
    "### Functions to work with matrices\n",
    "def transpose(matrix: Matrix) -> Matrix:\n",
    "    if not matrix:\n",
    "        raise ValueError(\"Matrix must not be empty\")\n",
    "    if not all(len(row) == len(matrix[0]) for row in matrix):\n",
    "        raise ValueError(\"All rows must have the same length\")\n",
    "    \n",
    "    return [[matrix[j][i] for j in range(len(matrix))] for i in range(len(matrix[0]))]\n",
    "\n",
    "def matrix_multiply(matrix1: Matrix, matrix2: Matrix) -> Matrix:\n",
    "    if not matrix1 or not matrix2:\n",
    "        raise ValueError(\"Matrices must not be empty\")\n",
    "    if not all(len(row) == len(matrix1[0]) for row in matrix1):\n",
    "        raise ValueError(\"All rows in first matrix must have the same length\")\n",
    "    if not all(len(row) == len(matrix2[0]) for row in matrix2):\n",
    "        raise ValueError(\"All rows in second matrix must have the same length\")\n",
    "    if len(matrix1[0]) != len(matrix2):\n",
    "        raise ValueError(\"Number of columns in first matrix must equal number of rows in second matrix\")\n",
    "\n",
    "    result = []\n",
    "    for i in range(len(matrix1)):\n",
    "        row = []\n",
    "        for j in range(len(matrix2[0])):\n",
    "            cell = sum(matrix1[i][k] * matrix2[k][j] for k in range(len(matrix2)))\n",
    "            row.append(cell)\n",
    "        result.append(row)\n",
    "    return result"
   ]
  },
  {
   "cell_type": "code",
   "execution_count": null,
   "id": "47fa9035",
   "metadata": {},
   "outputs": [
    {
     "name": "stdout",
     "output_type": "stream",
     "text": [
      "5\n",
      "8\n",
      "12\n",
      "3.0\n",
      "32\n",
      "3.7416573867739413\n",
      "[[1, 3], [2, 4]]\n",
      "[[19, 22], [43, 50]]\n"
     ]
    }
   ],
   "source": [
    "### Code example\n",
    "\n",
    "print(add(2, 3))\n",
    "print(subtract(10, 2))\n",
    "print(multiply(3, 4))\n",
    "print(divide(15, 5))\n",
    "\n",
    "vec1 = [1, 2, 3]\n",
    "vec2 = [4, 5, 6]\n",
    "print(scalar_product(vec1, vec2))\n",
    "print(vector_norm(vec1))\n",
    "\n",
    "A = [[1, 2],\n",
    "        [3, 4]]\n",
    "B = [[5, 6],\n",
    "        [7, 8]]\n",
    "print(transpose(A))\n",
    "print(matrix_multiply(A, B))"
   ]
  },
  {
   "cell_type": "code",
   "execution_count": 25,
   "id": "b564eedf",
   "metadata": {},
   "outputs": [
    {
     "name": "stdout",
     "output_type": "stream",
     "text": [
      "Division failed. TypeError was raised: Arguments must be numbers\n"
     ]
    }
   ],
   "source": [
    "try:\n",
    "    divide(1, 's')\n",
    "except TypeError as e:\n",
    "    print(f\"Division failed. TypeError was raised: {e}\")"
   ]
  },
  {
   "cell_type": "markdown",
   "id": "3a4e2ee9",
   "metadata": {},
   "source": [
    "### Задание 6.2: Lambda функции и высшие функции\n",
    "Реализуйте следующие задачи используя lambda функции:\n",
    "- Создайте список функций-преобразований (квадрат, куб, факториал)\n",
    "- Примените эти функции к списку чисел используя map()\n",
    "- Отфильтруйте числа по различным условиям используя filter()\n",
    "- Вычислите сумму, произведение, максимум, минимум используя reduce()"
   ]
  },
  {
   "cell_type": "code",
   "execution_count": 28,
   "id": "65f4ac1a",
   "metadata": {},
   "outputs": [
    {
     "name": "stdout",
     "output_type": "stream",
     "text": [
      "Original array: [1, 3, 7, -9, 4, 5, 2, -2]\n",
      "\n",
      "\tTransformations:\n",
      "Operation: 'square'. \tResult: [1, 9, 49, 81, 16, 25, 4, 4]\n",
      "Operation: 'cube'. \tResult: [1, 27, 343, -729, 64, 125, 8, -8]\n",
      "Operation: 'factorial'. \tResult: [1, 6, 5040, 1, 24, 120, 2, 1]\n",
      "\n",
      "\tFilters:\n",
      "Filter name: 'even'. \tResult: [4, 2, -2]\n",
      "Filter name: 'odd'. \tResult: [1, 3, 7, -9, 5]\n",
      "Filter name: '> 0'. \tResult: [1, 3, 7, 4, 5, 2]\n",
      "\n",
      "\tOperations:\n",
      "Operation name: 'sum'. \tResult: 11\n",
      "Operation name: 'product'. \tResult: 15120\n",
      "Operation name: 'max'. \tResult: 7\n",
      "Operation name: 'min'. \tResult: -9\n"
     ]
    }
   ],
   "source": [
    "from typing import Callable, Dict, List\n",
    "\n",
    "\n",
    "\n",
    "arr: List[int] = [1, 3, 7, -9, 4, 5, 2, -2]\n",
    "print(f\"Original array: {arr}\")\n",
    "\n",
    "### Lambda transformations (x^2, x^3, x!)\n",
    "lambda_factorial: Callable[[int], int] = lambda x: 1 if x <= 0 else x * lambda_factorial(x - 1)\n",
    "transformations: Dict[str, Callable[[int], int]] = {\n",
    "    \"square\": lambda x: x ** 2,\n",
    "    \"cube\": lambda x: x ** 3,\n",
    "    \"factorial\": lambda_factorial\n",
    "}\n",
    "\n",
    "print(\"\\n\\tTransformations:\")\n",
    "for name, _transform in transformations.items():\n",
    "    print(f\"Operation: '{name}'. \\tResult: {list(map(_transform, arr))}\")\n",
    "\n",
    "### Filter lambda functions\n",
    "filters: Dict[str, Callable[[int], bool]] = {\n",
    "    \"even\": lambda x: x % 2 == 0,\n",
    "    \"odd\": lambda x: x % 2 != 0,\n",
    "    \"> 0\": lambda x: x > 0,\n",
    "}\n",
    "\n",
    "print(\"\\n\\tFilters:\")\n",
    "for name, _filter in filters.items():\n",
    "    print(f\"Filter name: '{name}'. \\tResult: {list(filter(_filter, arr))}\")\n",
    "\n",
    "### Lambda operations\n",
    "from functools import reduce\n",
    "\n",
    "operations: Dict[str, Callable[[int, int], int]] = {\n",
    "    \"sum\": lambda x, y: x + y,\n",
    "    \"product\": lambda x, y: x * y,\n",
    "    \"max\": lambda x, y: x if x > y else y,\n",
    "    \"min\": lambda x, y: x if x < y else y\n",
    "}\n",
    "print(\"\\n\\tOperations:\")\n",
    "for name, _operation in operations.items():\n",
    "    print(f\"Operation name: '{name}'. \\tResult: {reduce(_operation, arr)}\")"
   ]
  },
  {
   "cell_type": "markdown",
   "id": "9a3f9bb1",
   "metadata": {},
   "source": [
    "### Задание 6.3: Функциональные композиции\n",
    "Создайте систему для композиции функций:\n",
    "- Реализуйте функцию compose(), которая принимает несколько функций и возвращает их композицию\n",
    "- Создайте pipeline для обработки данных (очистка, трансформация, валидация)\n",
    "- Используйте partial() для создания специализированных версий функций\n",
    "- Примените currying для создания функций с частичным применением аргументов"
   ]
  },
  {
   "cell_type": "code",
   "execution_count": null,
   "id": "7cf39d80",
   "metadata": {},
   "outputs": [
    {
     "name": "stdout",
     "output_type": "stream",
     "text": [
      "36\n"
     ]
    }
   ],
   "source": [
    "from typing import Callable, Any, Tuple\n",
    "# from sklearn.pipeline import Pipeline\n",
    "from functools import reduce\n",
    "import random\n",
    "\n",
    "### 1 (compose implementation)\n",
    "\n",
    "def compose(*functions) -> Callable[[int], int]:\n",
    "    '''\n",
    "        Returns a function that is the composition of the given functions.\n",
    "        The returned function applies the input functions from last to first.\n",
    "\n",
    "        Example:\n",
    "            f = compose(f1, f2, f3)\n",
    "            f(x) == f1(f2(f3(x)))\n",
    "\n",
    "        Args:\n",
    "            *functions: list of functions to compose\n",
    "    '''\n",
    "    return lambda x : reduce(lambda arg, f: f(arg), reversed(functions), x)\n",
    "\n",
    "composed_function = compose(*[lambda x : x ** 2, lambda x : x + 1])\n",
    "print(composed_function(5)) # (5 + 1) ** 2"
   ]
  },
  {
   "cell_type": "code",
   "execution_count": null,
   "id": "129474fc",
   "metadata": {},
   "outputs": [
    {
     "name": "stdout",
     "output_type": "stream",
     "text": [
      "Pipeline(steps=[('Cleaner', clear()), ('Transformer', transform()), ('Validator', validate())])\n",
      "[580, 930, 300, 840, 240, 290, 250, 400, 880, 270, 350, 740, 740, 400, 100]\n"
     ]
    }
   ],
   "source": [
    "### 2 (pipeline = clean, transform, validate)\n",
    "\n",
    "# Create and 'ruin' array with integers\n",
    "arr = [random.randint(0, 100) for _ in range(20)]\n",
    "indices_to_ruin = random.sample(range(len(arr)), 5)\n",
    "arr = [None if i in indices_to_ruin else x for i, x in enumerate(arr)]\n",
    "\n",
    "\n",
    "# Custom pipeline class (sklearn-like)\n",
    "class Pipeline:\n",
    "    \"\"\"\n",
    "        Simple pipeline for sequential data processing steps.\n",
    "\n",
    "        Methods:\n",
    "            __init__(steps): Initialize with list of (name, function) steps.\n",
    "            __str__(): String sklearn-like representation of pipeline steps.\n",
    "            run(data): Run data through all pipeline steps in order.\n",
    "    \"\"\"\n",
    "    def __init__(self, steps : list[Tuple[str, Callable]]):\n",
    "        self.steps = steps\n",
    "\n",
    "    def __str__(self):\n",
    "        steps_str = [\n",
    "            f\"({name!r}, {func.__name__}())\"\n",
    "            for name, func in self.steps\n",
    "        ]\n",
    "        return f\"Pipeline(steps=[{', '.join(steps_str)}])\"\n",
    "\n",
    "    def run(self, data):\n",
    "        for name, step in self.steps:\n",
    "            try:\n",
    "                data = step(data)\n",
    "            except Exception as e:\n",
    "                print(f\"Exception {e} was raised on step '{name}'. Return None\")\n",
    "                return None\n",
    "        return data\n",
    "\n",
    "# Functions clear(), transform(), validate()\n",
    "def clear(arr : list[Any]) -> list[Any]:\n",
    "    return [x for x in arr if x is not None]\n",
    "\n",
    "def transform(arr : list[Any]) -> list[Any]:\n",
    "    return [10 * x for x in arr]\n",
    "\n",
    "def validate(arr : list[Any]) -> list[Any]:\n",
    "    if any(x < 0 for x in arr):\n",
    "        raise ValueError(\"Negative values not allowed\")\n",
    "    return arr\n",
    "\n",
    "pipe = Pipeline([('Cleaner', clear), ('Transformer', transform), ('Validator', validate)])\n",
    "print(pipe)\n",
    "new_arr = pipe.run(arr)\n",
    "print(new_arr)"
   ]
  },
  {
   "cell_type": "code",
   "execution_count": 17,
   "id": "8ea9716a",
   "metadata": {},
   "outputs": [
    {
     "name": "stdout",
     "output_type": "stream",
     "text": [
      " Custom NormDist(0, 1) result: 1.4867195147342979e-06\n",
      " Specialized NormDist(0, 1) result: 1.4867195147342979e-06\n"
     ]
    }
   ],
   "source": [
    "from math import sqrt, pi, exp\n",
    "from functools import partial\n",
    "\n",
    "### 3 (partial application)\n",
    "def norm_dist(x : float, mean : float, std : float) -> float:\n",
    "    return exp(- (x - mean) ** 2 / (2 * std ** 2)) / (std * sqrt(2 * pi))\n",
    "\n",
    "standard_norm_dist = partial(norm_dist, mean=0, std=1)\n",
    "\n",
    "print(f\" Custom NormDist(0, 1) result: {norm_dist(5, 0, 1)}\")\n",
    "print(f\" Specialized NormDist(0, 1) result: {standard_norm_dist(x=5)}\")"
   ]
  },
  {
   "cell_type": "code",
   "execution_count": 18,
   "id": "3dc42a4e",
   "metadata": {},
   "outputs": [
    {
     "name": "stdout",
     "output_type": "stream",
     "text": [
      "<class 'function'>\n",
      "1.4867195147342979e-06\n"
     ]
    }
   ],
   "source": [
    "from math import sqrt, pi, exp\n",
    "from typing import Callable\n",
    "\n",
    "### 4 (carrying)\n",
    "def norm_dist(mean : float) -> Callable[[float], Callable[[float], float]]:\n",
    "    def w_std(std : float):\n",
    "        def w_variable(x : float):\n",
    "            return exp(- (x - mean) ** 2 / (2 * std ** 2)) / (std * sqrt(2 * pi))\n",
    "        return w_variable\n",
    "    return w_std\n",
    "\n",
    "standard_norm_dist = norm_dist(0)(1)\n",
    "print(type(standard_norm_dist))\n",
    "print(standard_norm_dist(5))"
   ]
  },
  {
   "cell_type": "markdown",
   "id": "baa38430",
   "metadata": {},
   "source": [
    "### Задание 7.1: Декораторы для измерения времени\n",
    "Создайте декораторы для:\n",
    "- Измерения времени выполнения функции\n",
    "- Подсчета количества вызовов функции\n",
    "- Кэширования результатов функции (мемоизация)\n",
    "- Ограничения частоты вызовов функции (rate limiting)"
   ]
  },
  {
   "cell_type": "code",
   "execution_count": null,
   "id": "73530325",
   "metadata": {},
   "outputs": [],
   "source": []
  },
  {
   "cell_type": "markdown",
   "id": "f2c42807",
   "metadata": {},
   "source": [
    "### Задание 7.2: Декораторы для валидации\n",
    "Реализуйте декораторы для:\n",
    "- Проверки типов аргументов функции\n",
    "- Валидации входных данных (например, email, телефон)\n",
    "- Проверки прав доступа (авторизация)\n",
    "- Логирования аргументов и результатов функции"
   ]
  },
  {
   "cell_type": "code",
   "execution_count": null,
   "id": "b97f2dcc",
   "metadata": {},
   "outputs": [],
   "source": []
  },
  {
   "cell_type": "markdown",
   "id": "6f83ce93",
   "metadata": {},
   "source": [
    "### Задание 7.3: Декораторы с параметрами\n",
    "Создайте декораторы, которые принимают параметры:\n",
    "- @retry(max_attempts=3, delay=1) - повторные попытки выполнения\n",
    "- @timeout(seconds=5) - ограничение времени выполнения\n",
    "- @deprecated(message=\"Use new_function instead\") - пометка устаревших функций\n",
    "- @validate_input(schema=my_schema) - валидация по схеме"
   ]
  },
  {
   "cell_type": "code",
   "execution_count": null,
   "id": "20a66405",
   "metadata": {},
   "outputs": [],
   "source": []
  },
  {
   "cell_type": "markdown",
   "id": "52ca058e",
   "metadata": {},
   "source": [
    "### Задание 7.4: Комплексная система декораторов\n",
    "Создайте систему декораторов для API эндпоинтов:\n",
    "- @authenticated - проверка аутентификации\n",
    "- @rate_limited(requests_per_minute=60) - ограничение частоты запросов\n",
    "- @validate_json(schema) - валидация JSON\n",
    "- @cache(ttl=300) - кэширование ответов\n",
    "- @log_request - логирование запросов\n",
    "- Комбинируйте несколько декораторов на одной функции"
   ]
  },
  {
   "cell_type": "code",
   "execution_count": null,
   "id": "837e952a",
   "metadata": {},
   "outputs": [],
   "source": []
  },
  {
   "cell_type": "markdown",
   "id": "fbdc3d42",
   "metadata": {},
   "source": [
    "### Задание 8.1: Система управления задачами\n",
    "Создайте систему управления задачами (TODO list) с использованием всех изученных концепций:\n",
    "- Класс Task с полями: id, title, description, status, priority, created_at, updated_at\n",
    "- Класс TaskManager с методами: add_task, remove_task, update_task, get_tasks, filter_tasks\n",
    "- Используйте декораторы для логирования операций\n",
    "- Реализуйте валидацию данных с кастомными исключениями\n",
    "- Добавьте генератор для итерации по задачам\n",
    "- Используйте функциональное программирование для фильтрации и сортировки"
   ]
  },
  {
   "cell_type": "code",
   "execution_count": null,
   "id": "f21a71bd",
   "metadata": {},
   "outputs": [],
   "source": []
  },
  {
   "cell_type": "markdown",
   "id": "97203946",
   "metadata": {},
   "source": [
    "### Задание 8.2: Мини-игра \"Крестики-нолики\"\n",
    "Создайте игру \"Крестики-нолики\" с ИИ:\n",
    "- Класс GameBoard для игрового поля\n",
    "- Класс Player для игроков (человек и ИИ)\n",
    "- Класс Game для управления игрой\n",
    "- Используйте match-case для обработки состояний игры\n",
    "- Реализуйте простой ИИ с использованием генераторов\n",
    "- Добавьте логирование ходов и результатов\n",
    "- Обработайте все возможные ошибки"
   ]
  },
  {
   "cell_type": "code",
   "execution_count": null,
   "id": "1fd9eed3",
   "metadata": {},
   "outputs": [],
   "source": []
  },
  {
   "cell_type": "markdown",
   "id": "b2972b62",
   "metadata": {},
   "source": [
    "### Задание 8.3: Система мониторинга файлов\n",
    "Создайте систему мониторинга изменений в файлах:\n",
    "- Класс FileMonitor для отслеживания файлов\n",
    "- Генератор для непрерывного мониторинга\n",
    "- Декораторы для логирования и кэширования\n",
    "- Обработка различных типов событий (создание, изменение, удаление)\n",
    "- Использование функционального программирования для обработки событий\n",
    "- Система уведомлений с кастомными исключениями"
   ]
  },
  {
   "cell_type": "code",
   "execution_count": null,
   "id": "4d8ebb8d",
   "metadata": {},
   "outputs": [],
   "source": []
  }
 ],
 "metadata": {
  "kernelspec": {
   "display_name": ".venv",
   "language": "python",
   "name": "python3"
  },
  "language_info": {
   "codemirror_mode": {
    "name": "ipython",
    "version": 3
   },
   "file_extension": ".py",
   "mimetype": "text/x-python",
   "name": "python",
   "nbconvert_exporter": "python",
   "pygments_lexer": "ipython3",
   "version": "3.12.3"
  }
 },
 "nbformat": 4,
 "nbformat_minor": 5
}
