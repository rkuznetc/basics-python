{
 "cells": [
  {
   "cell_type": "markdown",
   "id": "87e89517",
   "metadata": {},
   "source": [
    "##### TO DO: switch to PEP8 "
   ]
  },
  {
   "cell_type": "markdown",
   "id": "aaa5b9f4",
   "metadata": {},
   "source": [
    "#### 1.1 Калькулятор оценок"
   ]
  },
  {
   "cell_type": "code",
   "execution_count": null,
   "id": "8adc6dbf",
   "metadata": {},
   "outputs": [
    {
     "name": "stdout",
     "output_type": "stream",
     "text": [
      "A\n"
     ]
    }
   ],
   "source": [
    "def phi(mark: int) -> str:\n",
    "    assert 0 <= mark <= 100, f'Incorrect input of mark {mark}'\n",
    "\n",
    "    if 90 <= mark <= 100:\n",
    "        return 'A'\n",
    "    elif 80 <= mark <= 89:\n",
    "        return 'B'\n",
    "    elif 70 <= mark <= 79:\n",
    "        return 'C'\n",
    "    elif 60 <= mark <= 69   :\n",
    "        return 'D'\n",
    "    elif 0 <= mark <= 59:\n",
    "        return \"F\"\n",
    "\n",
    "print(phi(99))"
   ]
  },
  {
   "cell_type": "code",
   "execution_count": null,
   "id": "b47fe297",
   "metadata": {},
   "outputs": [
    {
     "ename": "AssertionError",
     "evalue": "Incorrect input of mark 500",
     "output_type": "error",
     "traceback": [
      "\u001b[31m---------------------------------------------------------------------------\u001b[39m",
      "\u001b[31mAssertionError\u001b[39m                            Traceback (most recent call last)",
      "\u001b[36mCell\u001b[39m\u001b[36m \u001b[39m\u001b[32mIn[35]\u001b[39m\u001b[32m, line 18\u001b[39m\n\u001b[32m     14\u001b[39m             \u001b[38;5;28;01mreturn\u001b[39;00m \u001b[33m'\u001b[39m\u001b[33mF\u001b[39m\u001b[33m'\u001b[39m\n\u001b[32m     15\u001b[39m         \u001b[38;5;66;03m# case _:\u001b[39;00m\n\u001b[32m     16\u001b[39m         \u001b[38;5;66;03m#     raise ValueError(f'Incorrect input of mark {mark}')\u001b[39;00m\n\u001b[32m---> \u001b[39m\u001b[32m18\u001b[39m \u001b[38;5;28mprint\u001b[39m(\u001b[43mphi\u001b[49m\u001b[43m(\u001b[49m\u001b[32;43m500\u001b[39;49m\u001b[43m)\u001b[49m)\n",
      "\u001b[36mCell\u001b[39m\u001b[36m \u001b[39m\u001b[32mIn[35]\u001b[39m\u001b[32m, line 2\u001b[39m, in \u001b[36mphi\u001b[39m\u001b[34m(mark)\u001b[39m\n\u001b[32m      1\u001b[39m \u001b[38;5;28;01mdef\u001b[39;00m\u001b[38;5;250m \u001b[39m\u001b[34mphi\u001b[39m(mark: \u001b[38;5;28mint\u001b[39m) -> \u001b[38;5;28mstr\u001b[39m:\n\u001b[32m----> \u001b[39m\u001b[32m2\u001b[39m     \u001b[38;5;28;01massert\u001b[39;00m \u001b[32m0\u001b[39m <= mark <= \u001b[32m100\u001b[39m, \u001b[33mf\u001b[39m\u001b[33m'\u001b[39m\u001b[33mIncorrect input of mark \u001b[39m\u001b[38;5;132;01m{\u001b[39;00mmark\u001b[38;5;132;01m}\u001b[39;00m\u001b[33m'\u001b[39m\n\u001b[32m      4\u001b[39m     \u001b[38;5;28;01mmatch\u001b[39;00m mark:\n\u001b[32m      5\u001b[39m         \u001b[38;5;28;01mcase\u001b[39;00m\u001b[38;5;250m \u001b[39m\u001b[38;5;28;01m_\u001b[39;00m \u001b[38;5;28;01mif\u001b[39;00m \u001b[32m90\u001b[39m <= mark <= \u001b[32m100\u001b[39m:\n",
      "\u001b[31mAssertionError\u001b[39m: Incorrect input of mark 500"
     ]
    }
   ],
   "source": [
    "def phi(mark: int) -> str:\n",
    "    assert 0 <= mark <= 100, f'Incorrect input of mark {mark}'\n",
    "\n",
    "    match mark:\n",
    "        case _ if 90 <= mark <= 100:\n",
    "            return 'A'\n",
    "        case _ if 80 <= mark <= 89:\n",
    "            return 'B'\n",
    "        case _ if 70 <= mark <= 79:\n",
    "            return 'C'\n",
    "        case _ if 60 <= mark <= 69:\n",
    "            return 'D'\n",
    "        case _ if 0 < mark <= 59:\n",
    "            return 'F'\n",
    "        \n",
    "print(phi(500))"
   ]
  },
  {
   "cell_type": "markdown",
   "id": "ec55969a",
   "metadata": {},
   "source": [
    "#### 1.2 Проверка года на високосность"
   ]
  },
  {
   "cell_type": "code",
   "execution_count": 1,
   "id": "00c9e7a2",
   "metadata": {},
   "outputs": [
    {
     "name": "stdout",
     "output_type": "stream",
     "text": [
      "2000 is a leap year: True\n",
      "2024 is a leap year: True\n",
      "2020 is a leap year: True\n",
      "1900 is a leap year: False\n",
      "1799 is a leap year: False\n",
      "2021 is a leap year: False\n"
     ]
    }
   ],
   "source": [
    "def isYearLeap(year: int) -> bool:\n",
    "    return True if (year % 4 == 0 and year % 100) or (year % 400 == 0) else False\n",
    "\n",
    "leap_years = [2000, 2024, 2020]\n",
    "nonleap_years = [1900, 1799, 2021]\n",
    "\n",
    "for leap_year in leap_years:\n",
    "    print(f\"{leap_year} is a leap year: {isYearLeap(leap_year)}\")\n",
    "for nonleap_year in nonleap_years:\n",
    "    print(f\"{nonleap_year} is a leap year: {isYearLeap(nonleap_year)}\")"
   ]
  },
  {
   "cell_type": "markdown",
   "id": "6a423f4e",
   "metadata": {},
   "source": [
    "#### 1.3 Классификация треугольников"
   ]
  },
  {
   "cell_type": "code",
   "execution_count": 8,
   "id": "a0e78c45",
   "metadata": {},
   "outputs": [
    {
     "name": "stdout",
     "output_type": "stream",
     "text": [
      "Задан равнобедренный треугольник\n"
     ]
    }
   ],
   "source": [
    "def determineTriangle(a: float, b: float, c: float) -> None:\n",
    "    sortedSides = sorted([a, b, c])\n",
    "    assert sortedSides[-1] <= sortedSides[0] + sortedSides[1], \"Задан НЕ треугольник\"\n",
    "\n",
    "    if a == b == c:\n",
    "        print(\"Задан равносторонний треугольник\")\n",
    "    elif a != b and b != c and a != c:\n",
    "        print(\"Задан разносторонний треугольник\")\n",
    "    else:\n",
    "        print(\"Задан равнобедренный треугольник\")\n",
    "\n",
    "determineTriangle(.5, 2.5, 2.5)"
   ]
  },
  {
   "cell_type": "markdown",
   "id": "a5171f2c",
   "metadata": {},
   "source": [
    "#### 2.1 Таблица умножения"
   ]
  },
  {
   "cell_type": "code",
   "execution_count": null,
   "id": "41c668eb",
   "metadata": {},
   "outputs": [
    {
     "name": "stdout",
     "output_type": "stream",
     "text": [
      "1 * 1 = 1\n",
      "1 * 2 = 2\n",
      "1 * 3 = 3\n",
      "1 * 4 = 4\n",
      "1 * 5 = 5\n",
      "1 * 6 = 6\n",
      "1 * 7 = 7\n",
      "1 * 8 = 8\n",
      "1 * 9 = 9\n",
      "1 * 10 = 10\n",
      "2 * 1 = 2\n",
      "2 * 2 = 4\n",
      "2 * 3 = 6\n",
      "2 * 4 = 8\n",
      "2 * 5 = 10\n",
      "2 * 6 = 12\n",
      "2 * 7 = 14\n",
      "2 * 8 = 16\n",
      "2 * 9 = 18\n",
      "2 * 10 = 20\n",
      "3 * 1 = 3\n",
      "3 * 2 = 6\n",
      "3 * 3 = 9\n",
      "3 * 4 = 12\n",
      "3 * 5 = 15\n",
      "3 * 6 = 18\n",
      "3 * 7 = 21\n",
      "3 * 8 = 24\n",
      "3 * 9 = 27\n",
      "3 * 10 = 30\n",
      "4 * 1 = 4\n",
      "4 * 2 = 8\n",
      "4 * 3 = 12\n",
      "4 * 4 = 16\n",
      "4 * 5 = 20\n",
      "4 * 6 = 24\n",
      "4 * 7 = 28\n",
      "4 * 8 = 32\n",
      "4 * 9 = 36\n",
      "4 * 10 = 40\n",
      "5 * 1 = 5\n",
      "5 * 2 = 10\n",
      "5 * 3 = 15\n",
      "5 * 4 = 20\n",
      "5 * 5 = 25\n",
      "5 * 6 = 30\n",
      "5 * 7 = 35\n",
      "5 * 8 = 40\n",
      "5 * 9 = 45\n",
      "5 * 10 = 50\n",
      "6 * 1 = 6\n",
      "6 * 2 = 12\n",
      "6 * 3 = 18\n",
      "6 * 4 = 24\n",
      "6 * 5 = 30\n",
      "6 * 6 = 36\n",
      "6 * 7 = 42\n",
      "6 * 8 = 48\n",
      "6 * 9 = 54\n",
      "6 * 10 = 60\n",
      "7 * 1 = 7\n",
      "7 * 2 = 14\n",
      "7 * 3 = 21\n",
      "7 * 4 = 28\n",
      "7 * 5 = 35\n",
      "7 * 6 = 42\n",
      "7 * 7 = 49\n",
      "7 * 8 = 56\n",
      "7 * 9 = 63\n",
      "7 * 10 = 70\n",
      "8 * 1 = 8\n",
      "8 * 2 = 16\n",
      "8 * 3 = 24\n",
      "8 * 4 = 32\n",
      "8 * 5 = 40\n",
      "8 * 6 = 48\n",
      "8 * 7 = 56\n",
      "8 * 8 = 64\n",
      "8 * 9 = 72\n",
      "8 * 10 = 80\n",
      "9 * 1 = 9\n",
      "9 * 2 = 18\n",
      "9 * 3 = 27\n",
      "9 * 4 = 36\n",
      "9 * 5 = 45\n",
      "9 * 6 = 54\n",
      "9 * 7 = 63\n",
      "9 * 8 = 72\n",
      "9 * 9 = 81\n",
      "9 * 10 = 90\n",
      "10 * 1 = 10\n",
      "10 * 2 = 20\n",
      "10 * 3 = 30\n",
      "10 * 4 = 40\n",
      "10 * 5 = 50\n",
      "10 * 6 = 60\n",
      "10 * 7 = 70\n",
      "10 * 8 = 80\n",
      "10 * 9 = 90\n",
      "10 * 10 = 100\n"
     ]
    }
   ],
   "source": [
    "def prettyPrint(a: int, b: int) -> None:\n",
    "    print(f\"{a} * {b} = {a * b}\")\n",
    "\n",
    "for i in range(1, 11):\n",
    "    for j in range(1, 11):\n",
    "        prettyPrint(i, j)"
   ]
  },
  {
   "cell_type": "markdown",
   "id": "be7e5ad6",
   "metadata": {},
   "source": [
    "#### 2.2 Поиск простых чисел"
   ]
  },
  {
   "cell_type": "code",
   "execution_count": 9,
   "id": "3ef3d656",
   "metadata": {},
   "outputs": [
    {
     "name": "stdout",
     "output_type": "stream",
     "text": [
      "2 3 5 7 11 13 17 19 23\n"
     ]
    }
   ],
   "source": [
    "n = int(input())\n",
    "\n",
    "def printPrimeNums(num: int) -> None:\n",
    "    primeNums = []\n",
    "\n",
    "    for i in range(2, num):\n",
    "        isPrime = True\n",
    "        for j in range(2, i):\n",
    "            if i % j == 0:\n",
    "                isPrime = False\n",
    "                break\n",
    "        if isPrime:\n",
    "            primeNums.append(str(i))\n",
    "\n",
    "    print(\" \".join(primeNums))\n",
    "\n",
    "printPrimeNums(n)"
   ]
  },
  {
   "cell_type": "markdown",
   "id": "9fe583eb",
   "metadata": {},
   "source": [
    "#### 2.3 Игра \"Угадай число\""
   ]
  },
  {
   "cell_type": "code",
   "execution_count": null,
   "id": "2cdc846b",
   "metadata": {},
   "outputs": [],
   "source": [
    "import random\n",
    "\n",
    "randomNum = random.randint(-100, 100)\n",
    "userInput = int(input())\n",
    "\n",
    "if randomNum == userInput:\n",
    "    print(\"You guessed the number!!!\")\n",
    "\n",
    "failCounter = 0\n",
    "while (userInput != randomNum):\n",
    "    if randomNum > userInput:\n",
    "        print(\"My number is greater than yours :D\")\n",
    "        userInput = int(input())\n",
    "        failCounter += 1\n",
    "    else:\n",
    "        print(\"My number is less than yours :D\")\n",
    "        userInput = int(input())\n",
    "        failCounter += 1\n",
    "\n",
    "print(f\"\\nCongratulations! Number was {randomNum}\")\n",
    "print(f\"Amount of guesses: {failCounter}\")"
   ]
  },
  {
   "cell_type": "markdown",
   "id": "16b07278",
   "metadata": {},
   "source": [
    "#### 2.4 Анализ текста"
   ]
  },
  {
   "cell_type": "markdown",
   "id": "c17b9c87",
   "metadata": {},
   "source": [
    "Text Format: \"word1 word2. word3 word4.\""
   ]
  },
  {
   "cell_type": "code",
   "execution_count": 49,
   "id": "f8cde8d0",
   "metadata": {},
   "outputs": [
    {
     "name": "stdout",
     "output_type": "stream",
     "text": [
      "Symbols:  {'l', 'o', 'H', 'y', 'd', ' ', 't', 'a', 'r', 'c', '.', 'm', 'e', 'h'}\n",
      "Amount of words:  4\n",
      "Amount of sentences:  1\n",
      "Top 5 most frequent words:\n",
      "hello: 1\n",
      "my: 1\n",
      "dear: 1\n",
      "teacher: 1\n"
     ]
    }
   ],
   "source": [
    "#           Text sample:\n",
    "# Hello my dear teacher, I love Python. I love Python. I love C++. This is already fifth sentence. I love C++.\n",
    "import string\n",
    "\n",
    "text = input()\n",
    "\n",
    "# preprocessing = lower-case + remove punctuation\n",
    "preprocessedText = text.lower()\n",
    "translator = str.maketrans('', '', string.punctuation)\n",
    "preprocessedText = preprocessedText.translate(translator) \n",
    "\n",
    "words = preprocessedText.split()\n",
    "uniqueWords = set(words)\n",
    "symbols = set(text)\n",
    "\n",
    "sentencesNum = len(text.split('. '))\n",
    "wordsNum = len(words)\n",
    "\n",
    "wordsToOccurences = dict.fromkeys(words)\n",
    "for uniqueWord in set(words):\n",
    "    counter = 0\n",
    "    for word in words:\n",
    "        if uniqueWord == word:\n",
    "            counter += 1\n",
    "\n",
    "    wordsToOccurences[uniqueWord] = counter\n",
    "    \n",
    "sortedOccurences = dict(sorted(wordsToOccurences.items(), key=lambda item: item[1], reverse=True))\n",
    "\n",
    "print(\"Symbols: \", symbols)\n",
    "print(\"Amount of words: \", wordsNum)\n",
    "print(\"Amount of sentences: \", sentencesNum)\n",
    "\n",
    "print(\"Top 5 most frequent words:\")\n",
    "for word, frequency in list(sortedOccurences.items())[:5]:\n",
    "    print(f\"{word}: {frequency}\") "
   ]
  },
  {
   "cell_type": "markdown",
   "id": "a2db1965",
   "metadata": {},
   "source": [
    "#### 3.1 Безопасный калькулятор\n",
    "\n",
    "Создайте калькулятор, который безопасно выполняет арифметические операции:\n",
    "- Принимает два числа и операцию (+, -, *, /)\n",
    "- Обрабатывает деление на ноль\n",
    "- Обрабатывает неверный ввод (не числа)\n",
    "- Обрабатывает неверные операции\n",
    "- Использует try-except-finally блоки"
   ]
  },
  {
   "cell_type": "code",
   "execution_count": null,
   "id": "320ee5f4",
   "metadata": {},
   "outputs": [
    {
     "name": "stdout",
     "output_type": "stream",
     "text": [
      "16.8\n",
      "5\n",
      "Error: you can't divide by zero\n",
      "Division a / b was executed\n"
     ]
    }
   ],
   "source": [
    "def calculator(a: float, b: float, operator) -> None:\n",
    "    operators = [\"+\", \"-\", \"*\", \"/\"]\n",
    "\n",
    "    assert operator in operators, \"Operator is not correc\"\n",
    "    typeCheck = (isinstance(a, float) or isinstance(a, int)) and (isinstance(b, float) or isinstance(b, int))\n",
    "    assert typeCheck, \"Expected float for 'a' and 'b'\"\n",
    "    \n",
    "    if operator == \"+\":\n",
    "        print(a + b)\n",
    "    elif operator == \"-\":\n",
    "        print(a - b)\n",
    "    elif operator == \"*\":\n",
    "        print(a * b)\n",
    "    elif operator == \"/\":\n",
    "        try:\n",
    "            result = a / b\n",
    "            print(result)\n",
    "        except ZeroDivisionError:\n",
    "            print(\"Error: you can't divide by zero\")\n",
    "        finally:\n",
    "            print(\"Division a / b was executed\")\n",
    "            \n",
    "\n",
    "calculator(8, 2.1, \"*\")\n",
    "calculator(2, 3, \"+\")\n",
    "calculator(1, 0, \"/\")"
   ]
  },
  {
   "cell_type": "markdown",
   "id": "13da00a4",
   "metadata": {},
   "source": [
    "### Задание 3.2: Чтение файла с обработкой ошибок\n",
    "Напишите функцию, которая:\n",
    "- Пытается прочитать файл\n",
    "- Обрабатывает FileNotFoundError\n",
    "- Обрабатывает PermissionError\n",
    "- Обрабатывает UnicodeDecodeError\n",
    "- Всегда выводит сообщение о завершении операции (finally)"
   ]
  },
  {
   "cell_type": "code",
   "execution_count": 24,
   "id": "917f0cbf",
   "metadata": {},
   "outputs": [],
   "source": [
    "def readFile(fileName: str) -> None:\n",
    "    try:\n",
    "        with open(fileName) as f:\n",
    "            content = f.read()\n",
    "            print(content)\n",
    "    except FileNotFoundError as error:\n",
    "        print(f\"File is not found. Following error was triggered: \\n\\t /// {error} ///\")\n",
    "    except PermissionError as error:\n",
    "        print(f\"Read access to the file is not granted. Following error was triggered: \\n\\t /// {error} ///\")\n",
    "    except UnicodeDecodeError as error:\n",
    "        print(f\"File cannot be decoded. Following error was triggered: \\n\\t /// {error} ///\")\n",
    "    finally:\n",
    "        print(\"\\nA file read operation was triggered\")\n"
   ]
  },
  {
   "cell_type": "code",
   "execution_count": null,
   "id": "bd9c779c",
   "metadata": {},
   "outputs": [
    {
     "name": "stdout",
     "output_type": "stream",
     "text": [
      "Hello from file 'simple.txt'.\n",
      "This is correct file :D\n",
      "\n",
      "A file read operation was triggered\n"
     ]
    }
   ],
   "source": [
    "# with open('valid.txt', 'w') as f:\n",
    "#     f.write(\"Hello from file 'simple.txt'.\\nThis is correct file :D\")\n",
    "\n",
    "validFile = \"valid.txt\"\n",
    "readFile(validFile)"
   ]
  },
  {
   "cell_type": "code",
   "execution_count": 26,
   "id": "754269e4",
   "metadata": {},
   "outputs": [
    {
     "name": "stdout",
     "output_type": "stream",
     "text": [
      "File is not found. Following error was triggered: \n",
      "\t /// [Errno 2] No such file or directory: 'WRONG.txt' ///\n",
      "\n",
      "A file read operation was triggered\n"
     ]
    }
   ],
   "source": [
    "wrongNameFile = \"WRONG.txt\"\n",
    "readFile(wrongNameFile)"
   ]
  },
  {
   "cell_type": "code",
   "execution_count": 27,
   "id": "2a49cd5f",
   "metadata": {},
   "outputs": [
    {
     "name": "stdout",
     "output_type": "stream",
     "text": [
      "File cannot be decoded. Following error was triggered: \n",
      "\t /// 'utf-8' codec can't decode byte 0xff in position 0: invalid start byte ///\n",
      "\n",
      "A file read operation was triggered\n"
     ]
    }
   ],
   "source": [
    "# with open('invalid_utf8.txt', 'wb') as f:\n",
    "#     f.write(b'\\xff\\xfe\\xfd')\n",
    "\n",
    "invalidUtfFile = \"invalid_utf8.txt\"\n",
    "readFile(invalidUtfFile)"
   ]
  },
  {
   "cell_type": "markdown",
   "id": "cf785f2d",
   "metadata": {},
   "source": [
    "### Задание 3.3: Кастомные исключения\n",
    "Создайте систему кастомных исключений для банковского приложения:\n",
    "- InsufficientFundsError (недостаточно средств)\n",
    "- InvalidAccountError (неверный номер счета)\n",
    "- TransactionLimitError (превышен лимит транзакций)\n",
    "- Реализуйте класс BankAccount с методами deposit, withdraw, transfer\n",
    "- Используйте ваши кастомные исключения"
   ]
  },
  {
   "cell_type": "code",
   "execution_count": null,
   "id": "f76085d8",
   "metadata": {},
   "outputs": [],
   "source": [
    "# 1\n",
    "class InsufficientFundsError(Exception):\n",
    "    pass\n",
    "\n",
    "# 2\n",
    "class InvalidAccountError(Exception):\n",
    "    pass\n",
    "\n",
    "# 3    \n",
    "class TransactionLimitError(Exception):\n",
    "    pass\n",
    "\n",
    "# 4 (optional)\n",
    "class NegativeMoneyAmount(Exception):\n",
    "    pass\n",
    "\n",
    "class BankAccount:\n",
    "    def __init__(self, money, limit = 1000):\n",
    "        self.money = money\n",
    "        self.transactionsLimit = limit\n",
    "\n",
    "    def __str__(self):\n",
    "        return f\"Bank account amount: {float(self.money)} USD\"\n",
    "\n",
    "    def deposit(self, amount):\n",
    "        if amount < 0: raise NegativeMoneyAmount(\"[Error] Money to deposit is negative amount\")\n",
    "        if self.transactionsLimit <= 0: raise TransactionLimitError(\"[Error] Transaction limit exceeded\")\n",
    "\n",
    "        self.money += amount\n",
    "        self.transactionsLimit -= 1\n",
    "\n",
    "    def withdraw(self, amount):\n",
    "        if amount < 0: raise NegativeMoneyAmount(\"[Error] Money to withdraw is negative amount\")\n",
    "        if self.money < amount: raise InsufficientFundsError(\"[Error] There are not enough funds in the bank account\")\n",
    "        if self.transactionsLimit <= 0: raise TransactionLimitError(\"[Error] Transaction limit exceeded\")\n",
    "        \n",
    "        self.money -= amount\n",
    "        self.transactionsLimit -= 1\n",
    "\n",
    "    def transfer(self, account, amount):\n",
    "        if not isinstance(account, BankAccount): raise InvalidAccountError(\"[Error] Account number is invalid\")\n",
    "        if amount < 0: raise NegativeMoneyAmount(\"[Error] Money to transfer is negative amount\")\n",
    "        if self.money < amount: raise InsufficientFundsError(\"[Error] There are not enough funds in the bank account\")\n",
    "        if self.transactionsLimit <= 0: raise TransactionLimitError(\"[Error] Transaction limit exceeded\")\n",
    "\n",
    "        self.money -= amount\n",
    "        self.transactionsLimit -= 1\n",
    "        account.deposit(amount)"
   ]
  },
  {
   "cell_type": "code",
   "execution_count": 56,
   "id": "d7c65038",
   "metadata": {},
   "outputs": [
    {
     "name": "stdout",
     "output_type": "stream",
     "text": [
      "Bank account amount: 100.0 USD\n",
      "Bank account amount: 150.0 USD\n",
      "Bank account amount: 60.0 USD\n"
     ]
    },
    {
     "ename": "NegativeMoneyAmount",
     "evalue": "[Error] Money to deposit is negative amount",
     "output_type": "error",
     "traceback": [
      "\u001b[31m---------------------------------------------------------------------------\u001b[39m",
      "\u001b[31mNegativeMoneyAmount\u001b[39m                       Traceback (most recent call last)",
      "\u001b[36mCell\u001b[39m\u001b[36m \u001b[39m\u001b[32mIn[56]\u001b[39m\u001b[32m, line 7\u001b[39m\n\u001b[32m      5\u001b[39m acc1.withdraw(\u001b[32m90\u001b[39m)\n\u001b[32m      6\u001b[39m \u001b[38;5;28mprint\u001b[39m(acc1)\n\u001b[32m----> \u001b[39m\u001b[32m7\u001b[39m \u001b[43macc1\u001b[49m\u001b[43m.\u001b[49m\u001b[43mdeposit\u001b[49m\u001b[43m(\u001b[49m\u001b[43m-\u001b[49m\u001b[32;43m90\u001b[39;49m\u001b[43m)\u001b[49m\n",
      "\u001b[36mCell\u001b[39m\u001b[36m \u001b[39m\u001b[32mIn[55]\u001b[39m\u001b[32m, line 48\u001b[39m, in \u001b[36mBankAccount.deposit\u001b[39m\u001b[34m(self, amount)\u001b[39m\n\u001b[32m     47\u001b[39m \u001b[38;5;28;01mdef\u001b[39;00m\u001b[38;5;250m \u001b[39m\u001b[34mdeposit\u001b[39m(\u001b[38;5;28mself\u001b[39m, amount):\n\u001b[32m---> \u001b[39m\u001b[32m48\u001b[39m     \u001b[38;5;28;01mif\u001b[39;00m amount < \u001b[32m0\u001b[39m: \u001b[38;5;28;01mraise\u001b[39;00m NegativeMoneyAmount(\u001b[33m\"\u001b[39m\u001b[33m[Error] Money to deposit is negative amount\u001b[39m\u001b[33m\"\u001b[39m)\n\u001b[32m     49\u001b[39m     \u001b[38;5;28;01mif\u001b[39;00m \u001b[38;5;28mself\u001b[39m.transactionsLimit <= \u001b[32m0\u001b[39m: \u001b[38;5;28;01mraise\u001b[39;00m TransactionLimitError(\u001b[33m\"\u001b[39m\u001b[33m[Error] Transaction limit exceeded\u001b[39m\u001b[33m\"\u001b[39m)\n\u001b[32m     51\u001b[39m     \u001b[38;5;28mself\u001b[39m.money += amount\n",
      "\u001b[31mNegativeMoneyAmount\u001b[39m: [Error] Money to deposit is negative amount"
     ]
    }
   ],
   "source": [
    "acc1 = BankAccount(100)\n",
    "print(acc1)\n",
    "acc1.deposit(50)\n",
    "print(acc1)\n",
    "acc1.withdraw(90)\n",
    "print(acc1)\n",
    "acc1.deposit(-90)"
   ]
  },
  {
   "cell_type": "code",
   "execution_count": 57,
   "id": "e78ec66b",
   "metadata": {},
   "outputs": [
    {
     "name": "stdout",
     "output_type": "stream",
     "text": [
      "Bank account amount: 100.0 USD\n"
     ]
    },
    {
     "ename": "InsufficientFundsError",
     "evalue": "[Error] There are not enough funds in the bank account",
     "output_type": "error",
     "traceback": [
      "\u001b[31m---------------------------------------------------------------------------\u001b[39m",
      "\u001b[31mInsufficientFundsError\u001b[39m                    Traceback (most recent call last)",
      "\u001b[36mCell\u001b[39m\u001b[36m \u001b[39m\u001b[32mIn[57]\u001b[39m\u001b[32m, line 3\u001b[39m\n\u001b[32m      1\u001b[39m acc1 = BankAccount(\u001b[32m100\u001b[39m)\n\u001b[32m      2\u001b[39m \u001b[38;5;28mprint\u001b[39m(acc1)\n\u001b[32m----> \u001b[39m\u001b[32m3\u001b[39m \u001b[43macc1\u001b[49m\u001b[43m.\u001b[49m\u001b[43mwithdraw\u001b[49m\u001b[43m(\u001b[49m\u001b[32;43m101\u001b[39;49m\u001b[43m)\u001b[49m\n",
      "\u001b[36mCell\u001b[39m\u001b[36m \u001b[39m\u001b[32mIn[55]\u001b[39m\u001b[32m, line 56\u001b[39m, in \u001b[36mBankAccount.withdraw\u001b[39m\u001b[34m(self, amount)\u001b[39m\n\u001b[32m     54\u001b[39m \u001b[38;5;28;01mdef\u001b[39;00m\u001b[38;5;250m \u001b[39m\u001b[34mwithdraw\u001b[39m(\u001b[38;5;28mself\u001b[39m, amount):\n\u001b[32m     55\u001b[39m     \u001b[38;5;28;01mif\u001b[39;00m amount < \u001b[32m0\u001b[39m: \u001b[38;5;28;01mraise\u001b[39;00m NegativeMoneyAmount(\u001b[33m\"\u001b[39m\u001b[33m[Error] Money to withdraw is negative amount\u001b[39m\u001b[33m\"\u001b[39m)\n\u001b[32m---> \u001b[39m\u001b[32m56\u001b[39m     \u001b[38;5;28;01mif\u001b[39;00m \u001b[38;5;28mself\u001b[39m.money < amount: \u001b[38;5;28;01mraise\u001b[39;00m InsufficientFundsError(\u001b[33m\"\u001b[39m\u001b[33m[Error] There are not enough funds in the bank account\u001b[39m\u001b[33m\"\u001b[39m)\n\u001b[32m     57\u001b[39m     \u001b[38;5;28;01mif\u001b[39;00m \u001b[38;5;28mself\u001b[39m.transactionsLimit <= \u001b[32m0\u001b[39m: \u001b[38;5;28;01mraise\u001b[39;00m TransactionLimitError(\u001b[33m\"\u001b[39m\u001b[33m[Error] Transaction limit exceeded\u001b[39m\u001b[33m\"\u001b[39m)\n\u001b[32m     59\u001b[39m     \u001b[38;5;28mself\u001b[39m.money -= amount\n",
      "\u001b[31mInsufficientFundsError\u001b[39m: [Error] There are not enough funds in the bank account"
     ]
    }
   ],
   "source": [
    "acc1 = BankAccount(100)\n",
    "print(acc1)\n",
    "acc1.withdraw(101)"
   ]
  },
  {
   "cell_type": "code",
   "execution_count": 58,
   "id": "51e3aad1",
   "metadata": {},
   "outputs": [
    {
     "ename": "TransactionLimitError",
     "evalue": "[Error] Transaction limit exceeded",
     "output_type": "error",
     "traceback": [
      "\u001b[31m---------------------------------------------------------------------------\u001b[39m",
      "\u001b[31mTransactionLimitError\u001b[39m                     Traceback (most recent call last)",
      "\u001b[36mCell\u001b[39m\u001b[36m \u001b[39m\u001b[32mIn[58]\u001b[39m\u001b[32m, line 3\u001b[39m\n\u001b[32m      1\u001b[39m acc1 = BankAccount(money=\u001b[32m100\u001b[39m, limit=\u001b[32m1\u001b[39m)\n\u001b[32m      2\u001b[39m acc1.deposit(\u001b[32m100\u001b[39m)\n\u001b[32m----> \u001b[39m\u001b[32m3\u001b[39m \u001b[43macc1\u001b[49m\u001b[43m.\u001b[49m\u001b[43mdeposit\u001b[49m\u001b[43m(\u001b[49m\u001b[32;43m200\u001b[39;49m\u001b[43m)\u001b[49m\n\u001b[32m      4\u001b[39m acc1.deposit(\u001b[32m200\u001b[39m)\n\u001b[32m      5\u001b[39m acc1.withdraw(\u001b[32m100\u001b[39m)\n",
      "\u001b[36mCell\u001b[39m\u001b[36m \u001b[39m\u001b[32mIn[55]\u001b[39m\u001b[32m, line 49\u001b[39m, in \u001b[36mBankAccount.deposit\u001b[39m\u001b[34m(self, amount)\u001b[39m\n\u001b[32m     47\u001b[39m \u001b[38;5;28;01mdef\u001b[39;00m\u001b[38;5;250m \u001b[39m\u001b[34mdeposit\u001b[39m(\u001b[38;5;28mself\u001b[39m, amount):\n\u001b[32m     48\u001b[39m     \u001b[38;5;28;01mif\u001b[39;00m amount < \u001b[32m0\u001b[39m: \u001b[38;5;28;01mraise\u001b[39;00m NegativeMoneyAmount(\u001b[33m\"\u001b[39m\u001b[33m[Error] Money to deposit is negative amount\u001b[39m\u001b[33m\"\u001b[39m)\n\u001b[32m---> \u001b[39m\u001b[32m49\u001b[39m     \u001b[38;5;28;01mif\u001b[39;00m \u001b[38;5;28mself\u001b[39m.transactionsLimit <= \u001b[32m0\u001b[39m: \u001b[38;5;28;01mraise\u001b[39;00m TransactionLimitError(\u001b[33m\"\u001b[39m\u001b[33m[Error] Transaction limit exceeded\u001b[39m\u001b[33m\"\u001b[39m)\n\u001b[32m     51\u001b[39m     \u001b[38;5;28mself\u001b[39m.money += amount\n\u001b[32m     52\u001b[39m     \u001b[38;5;28mself\u001b[39m.transactionsLimit -= \u001b[32m1\u001b[39m\n",
      "\u001b[31mTransactionLimitError\u001b[39m: [Error] Transaction limit exceeded"
     ]
    }
   ],
   "source": [
    "acc1 = BankAccount(money=100, limit=1)\n",
    "acc1.deposit(100)\n",
    "acc1.deposit(200)\n",
    "acc1.deposit(200)\n",
    "acc1.withdraw(100)\n",
    "acc1.withdraw(100)\n",
    "acc1.withdraw(100)\n",
    "\n",
    "print(acc1)"
   ]
  },
  {
   "cell_type": "code",
   "execution_count": 59,
   "id": "bb54e9cd",
   "metadata": {},
   "outputs": [
    {
     "name": "stdout",
     "output_type": "stream",
     "text": [
      "Bank account amount: 100.0 USD Bank account amount: 200.0 USD\n",
      "Bank account amount: 50.0 USD Bank account amount: 250.0 USD\n"
     ]
    }
   ],
   "source": [
    "acc1 = BankAccount(money=100)\n",
    "acc2 = BankAccount(money=200)\n",
    "print(acc1, acc2)\n",
    "acc1.transfer(account=acc2, amount=50)\n",
    "print(acc1, acc2)"
   ]
  },
  {
   "cell_type": "code",
   "execution_count": 60,
   "id": "85e1da86",
   "metadata": {},
   "outputs": [
    {
     "ename": "InvalidAccountError",
     "evalue": "[Error] Account number is invalid",
     "output_type": "error",
     "traceback": [
      "\u001b[31m---------------------------------------------------------------------------\u001b[39m",
      "\u001b[31mInvalidAccountError\u001b[39m                       Traceback (most recent call last)",
      "\u001b[36mCell\u001b[39m\u001b[36m \u001b[39m\u001b[32mIn[60]\u001b[39m\u001b[32m, line 2\u001b[39m\n\u001b[32m      1\u001b[39m acc1 = BankAccount(money=\u001b[32m100\u001b[39m)\n\u001b[32m----> \u001b[39m\u001b[32m2\u001b[39m \u001b[43macc1\u001b[49m\u001b[43m.\u001b[49m\u001b[43mtransfer\u001b[49m\u001b[43m(\u001b[49m\u001b[43maccount\u001b[49m\u001b[43m=\u001b[49m\u001b[43m{\u001b[49m\u001b[43m}\u001b[49m\u001b[43m,\u001b[49m\u001b[43m \u001b[49m\u001b[43mamount\u001b[49m\u001b[43m=\u001b[49m\u001b[32;43m50\u001b[39;49m\u001b[43m)\u001b[49m\n",
      "\u001b[36mCell\u001b[39m\u001b[36m \u001b[39m\u001b[32mIn[55]\u001b[39m\u001b[32m, line 63\u001b[39m, in \u001b[36mBankAccount.transfer\u001b[39m\u001b[34m(self, account, amount)\u001b[39m\n\u001b[32m     62\u001b[39m \u001b[38;5;28;01mdef\u001b[39;00m\u001b[38;5;250m \u001b[39m\u001b[34mtransfer\u001b[39m(\u001b[38;5;28mself\u001b[39m, account, amount):\n\u001b[32m---> \u001b[39m\u001b[32m63\u001b[39m     \u001b[38;5;28;01mif\u001b[39;00m \u001b[38;5;129;01mnot\u001b[39;00m \u001b[38;5;28misinstance\u001b[39m(account, BankAccount): \u001b[38;5;28;01mraise\u001b[39;00m InvalidAccountError(\u001b[33m\"\u001b[39m\u001b[33m[Error] Account number is invalid\u001b[39m\u001b[33m\"\u001b[39m)\n\u001b[32m     64\u001b[39m     \u001b[38;5;28;01mif\u001b[39;00m amount < \u001b[32m0\u001b[39m: \u001b[38;5;28;01mraise\u001b[39;00m NegativeMoneyAmount(\u001b[33m\"\u001b[39m\u001b[33m[Error] Money to transfer is negative amount\u001b[39m\u001b[33m\"\u001b[39m)\n\u001b[32m     65\u001b[39m     \u001b[38;5;28;01mif\u001b[39;00m \u001b[38;5;28mself\u001b[39m.money < amount: \u001b[38;5;28;01mraise\u001b[39;00m InsufficientFundsError(\u001b[33m\"\u001b[39m\u001b[33m[Error] There are not enough funds in the bank account\u001b[39m\u001b[33m\"\u001b[39m)\n",
      "\u001b[31mInvalidAccountError\u001b[39m: [Error] Account number is invalid"
     ]
    }
   ],
   "source": [
    "acc1 = BankAccount(money=100)\n",
    "acc1.transfer(account={}, amount=50)"
   ]
  }
 ],
 "metadata": {
  "kernelspec": {
   "display_name": ".venv",
   "language": "python",
   "name": "python3"
  },
  "language_info": {
   "codemirror_mode": {
    "name": "ipython",
    "version": 3
   },
   "file_extension": ".py",
   "mimetype": "text/x-python",
   "name": "python",
   "nbconvert_exporter": "python",
   "pygments_lexer": "ipython3",
   "version": "3.12.3"
  }
 },
 "nbformat": 4,
 "nbformat_minor": 5
}
