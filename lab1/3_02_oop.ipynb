{
 "cells": [
  {
   "cell_type": "markdown",
   "id": "31a9d9d3",
   "metadata": {},
   "source": [
    "##### ЗАДАЧИ ДЛЯ ПРАКТИКИ ООП"
   ]
  },
  {
   "cell_type": "markdown",
   "id": "f7dd20f7",
   "metadata": {},
   "source": [
    "**1. БАЗОВЫЕ ФИНАНСОВЫЕ ИНСТРУМЕНТЫ:**\n",
    "- Реализуйте класс `EuropeanPutOption`, наследующий от `Option`\n",
    "- Реализуйте класс `AmericanCallOption` с возможностью досрочного исполнения\n",
    "- Добавьте валидацию даты истечения в базовый класс `Option`\n",
    "- Создайте класс `Stock` (акция) как наследник `AbstractAsset`"
   ]
  },
  {
   "cell_type": "code",
   "execution_count": null,
   "id": "54b9050c",
   "metadata": {},
   "outputs": [],
   "source": [
    "# TODO\n",
    "# 1) добавить валидацию в Option\n",
    "# 2) реализовать AmericanOption"
   ]
  },
  {
   "cell_type": "code",
   "execution_count": null,
   "id": "de2f002a",
   "metadata": {},
   "outputs": [],
   "source": [
    "from abc import ABC, abstractmethod\n",
    "import math\n",
    "from datetime import datetime\n",
    "import time\n",
    "from scipy.stats import norm\n",
    "\n",
    "###         Inheritance strategy\n",
    "# AbstractAsset -> Derivative -> Option -> European\n",
    "# AbstractAsset -> Stock\n",
    "\n",
    "class AbstractAsset(ABC):\n",
    "    def __init__(self, name: str, price: float):\n",
    "        self.name = name\n",
    "        self.price = price\n",
    "    def __repr__(self) -> str:\n",
    "        return f'Stock: {self.name}, \\nPrice: {self.price}'\n",
    "\n",
    "\n",
    "class Stock:...\n",
    "\n",
    "class Stock(AbstractAsset):\n",
    "\n",
    "    __registry: dict[str, Stock] = dict()\n",
    "\n",
    "    @classmethod\n",
    "    def get_from_registry(cls, name: str) -> Stock:\n",
    "        if (stock := cls.__registry.get(name)) is None: \n",
    "            raise KeyError(f\"Stock {name} doesn't exist\")\n",
    "        return stock\n",
    "\n",
    "    def __new__(cls, *args, **kwargs):\n",
    "        instance = super().__new__(cls)\n",
    "        name = kwargs.get('name')\n",
    "        cls.__registry[name] = instance\n",
    "        return instance\n",
    "    \n",
    "    \n",
    "class Derivative(AbstractAsset):\n",
    "    FORMAT_CODE = \"%Y-%m-%d\"\n",
    "    def __init__(self, *args, expiration_date: str, underlying_name: str, **kwargs):\n",
    "        super().__init__(*args, **kwargs)\n",
    "        self.expiration_date = expiration_date\n",
    "        self.__underlying: Stock = Stock.get_from_registry(underlying_name)\n",
    "    \n",
    "    @property\n",
    "    def underlying(self) -> Stock:\n",
    "        return self.__underlying\n",
    "\n",
    "class Option(Derivative):\n",
    "    def __init__(self, *args, strike_price: float, risk_free_rate: float, volatility: float, **kwargs):\n",
    "        super().__init__(*args, **kwargs)\n",
    "        self.strike_price = strike_price\n",
    "        self.risk_free_rate = risk_free_rate\n",
    "        self.volatility = volatility\n",
    "        self.__payoff = None\n",
    "\n",
    "    # TODO: валидация в Option == проверить, что введенная дата не раньше даты из os\n",
    "            \n",
    "    @abstractmethod\n",
    "    def exercise(self):...\n",
    "\n",
    "\n",
    "class EuropeanCallOption(Option):\n",
    "    @property\n",
    "    def payoff(self) -> float:\n",
    "        T: float = datetime.strptime(self.expiration_date, self.FORMAT_CODE).timestamp() - time.time()\n",
    "        T /= 60*60*24*365\n",
    "        d1 = (math.log(self.underlying.price / self.strike_price) +\\\n",
    "             (self.risk_free_rate + self.volatility**2 / 2) * T) /\\\n",
    "             (self.volatility * math.sqrt(T))\n",
    "        d2 = d1 - (self.volatility * math.sqrt(T))\n",
    "        c = self.underlying.price * norm.cdf(d1) - self.strike_price * \\\n",
    "            math.exp(-self.risk_free_rate) * norm.cdf(d2)\n",
    "        return c\n",
    "    def exercise(self):\n",
    "        # TODO:\n",
    "        # EUROPEAN OPTION CASE: if data_exp != today => exception\n",
    "        # AMERICAN OPTION CASE: no need\n",
    "        return max(self.underlying.price - self.strike_price, 0)\n",
    "\n",
    "# TODO: implement american option\n",
    "class AmericanOption(Option):...\n"
   ]
  },
  {
   "cell_type": "code",
   "execution_count": 4,
   "id": "2e683aeb",
   "metadata": {},
   "outputs": [],
   "source": [
    "vtbr = Stock(name = 'VTBR', price = 70)\n",
    "\n",
    "eur_call_option = EuropeanCallOption(\n",
    "    name = 'Default Name', \n",
    "    strike_price = 70,\n",
    "    risk_free_rate = 0.18,\n",
    "    volatility = 0.3,\n",
    "    expiration_date = '2025-12-31',\n",
    "    price = 7,\n",
    "    underlying_name = 'VTBR'\n",
    ")"
   ]
  },
  {
   "cell_type": "code",
   "execution_count": 6,
   "id": "0e75cfaf",
   "metadata": {},
   "outputs": [],
   "source": [
    "sber: Stock = Stock(name = 'SBER', price = 300)\n",
    "# Stock.get_registry('SBER')"
   ]
  },
  {
   "cell_type": "code",
   "execution_count": 11,
   "id": "ebc80fbf",
   "metadata": {},
   "outputs": [
    {
     "data": {
      "text/plain": [
       "np.float64(10.761856373105637)"
      ]
     },
     "execution_count": 11,
     "metadata": {},
     "output_type": "execute_result"
    }
   ],
   "source": [
    "eur_call_option.payoff"
   ]
  },
  {
   "cell_type": "markdown",
   "id": "473aecf9",
   "metadata": {},
   "source": [
    "**2. РАСШИРЕННЫЕ ОПЦИОНЫ:**\n",
    "- Реализуйте класс `BinaryOption` (бинарный опцион)\n",
    "- Создайте класс `BarrierOption` (барьерный опцион)\n",
    "- Добавьте метод расчета Greeks (дельта, гамма, тета, вега) для опционов"
   ]
  },
  {
   "cell_type": "code",
   "execution_count": null,
   "id": "fa6b7962",
   "metadata": {},
   "outputs": [],
   "source": [
    "# TODO\n",
    "# 1) реализовать BinaryOption(fixed_payoff)\n",
    "# 2) реализовать BarrierOption(P>0 if S_t in [B_L, B_U])\n",
    "# 3) Greeks сделать без рассчетов (pass), \"этот метод существует\""
   ]
  },
  {
   "cell_type": "markdown",
   "id": "20ae7234",
   "metadata": {},
   "source": [
    "**3. ПОРТФЕЛЬ И УПРАВЛЕНИЕ АКТИВАМИ:**\n",
    "- Реализуйте метод `__repr__` для класса `Portfolio`\n",
    "- Добавьте метод `__getitem__` для доступа к активам по индексу\n",
    "- Реализуйте метод `__contains__` для проверки наличия актива в портфеле\n",
    "- Добавьте метод `remove_asset` для удаления актива из портфеля\n",
    "- Создайте метод `calculate_portfolio_risk` для расчета риска портфеля"
   ]
  },
  {
   "cell_type": "code",
   "execution_count": null,
   "id": "9dfc0fae",
   "metadata": {},
   "outputs": [],
   "source": [
    "# TODO\n",
    "# 1) реализовать Portfolio (все хранится в словаре)\n",
    "# 2) calculate_portfolio_risk - без реализации (pass)"
   ]
  },
  {
   "cell_type": "markdown",
   "id": "90bd1c6a",
   "metadata": {},
   "source": [
    "**5. ДОПОЛНИТЕЛЬНЫЕ DUNDER МЕТОДЫ:**\n",
    "- Добавьте `__eq__`, `__lt__`, `__le__` для сравнения портфелей\n",
    "- Реализуйте `__mul__` для умножения портфеля на число (масштабирование)\n",
    "- Добавьте `__str__` для красивого вывода портфеля\n",
    "- Реализуйте `__bool__` для проверки, является ли портфель пустым"
   ]
  },
  {
   "cell_type": "markdown",
   "id": "4e951805",
   "metadata": {},
   "source": [
    "**6. ПРОДВИНУТЫЕ ЗАДАЧИ:**\n",
    "- Создайте декоратор `@validate_option_params` для валидации параметров опционов\n",
    "- Реализуйте класс `PortfolioManager` с методами для управления несколькими портфелями\n",
    "- Добавьте поддержку сериализации/десериализации портфелей (pickle)\n",
    "- Создайте контекстный менеджер для временного изменения параметров портфеля"
   ]
  },
  {
   "cell_type": "code",
   "execution_count": null,
   "id": "ef13962a",
   "metadata": {},
   "outputs": [],
   "source": [
    "# TODO\n",
    "# 1) реализовать PortfolioManager (принимает на вход список портфелей, методы убрать и добавить портфель)\n",
    "# 2) добавить сериализацию/десериализацию через pickle\n",
    "# 3) контекстный менеджер"
   ]
  }
 ],
 "metadata": {
  "kernelspec": {
   "display_name": ".venv",
   "language": "python",
   "name": "python3"
  },
  "language_info": {
   "codemirror_mode": {
    "name": "ipython",
    "version": 3
   },
   "file_extension": ".py",
   "mimetype": "text/x-python",
   "name": "python",
   "nbconvert_exporter": "python",
   "pygments_lexer": "ipython3",
   "version": "3.12.3"
  }
 },
 "nbformat": 4,
 "nbformat_minor": 5
}
