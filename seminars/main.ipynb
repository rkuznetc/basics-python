{
 "cells": [
  {
   "cell_type": "markdown",
   "id": "605eb7fc",
   "metadata": {},
   "source": [
    "### Taylor series sh(x) generator (var.1)"
   ]
  },
  {
   "cell_type": "code",
   "execution_count": 5,
   "id": "2e9d39cd",
   "metadata": {},
   "outputs": [
    {
     "name": "stdout",
     "output_type": "stream",
     "text": [
      "Initial sum value: 0.5\n",
      "Series print, until series accuracy 1e-12 is achieved:\n",
      "0.5208333333333334\n",
      "0.5209573412698413\n",
      "0.5209576231060606\n",
      "0.5209576234415799\n"
     ]
    }
   ],
   "source": [
    "from typing import Generator, Iterator\n",
    "\n",
    "def sinh_taylor_gen(x: float) -> Generator[float, None, None]:\n",
    "    \"\"\"Calculate updated Taylor series of sh(x) every new iteration\"\"\"\n",
    "    # Formula:\n",
    "    #   sh(x) = sigma [x^(2n+1) / (2n+1)!]\n",
    "\n",
    "    # Initial values\n",
    "    member: float = x\n",
    "    series: float = member\n",
    "    n: int = 1\n",
    "    yield series\n",
    "\n",
    "    while True:\n",
    "        member *= (x * x) / (2 * n) / (2 * n + 1)\n",
    "        series += member\n",
    "        yield series\n",
    "        n += 2\n",
    "\n",
    "gener: Generator[float, None, None] = sinh_taylor_gen(x=0.5)\n",
    "epsilon : float = 1e-12\n",
    "current_sum = next(gener)\n",
    "print(f\"Initial sum value: {current_sum}\")\n",
    "\n",
    "print(f\"Series print, until series accuracy {epsilon} is achieved:\")\n",
    "while abs(current_sum - (current_sum := next(gener))) > epsilon:\n",
    "    print(current_sum)\n"
   ]
  },
  {
   "cell_type": "markdown",
   "id": "adf2fb15",
   "metadata": {},
   "source": [
    "### Time series sh(x) generator (var.2)"
   ]
  },
  {
   "cell_type": "code",
   "execution_count": 4,
   "id": "d1c8518c",
   "metadata": {},
   "outputs": [
    {
     "name": "stdout",
     "output_type": "stream",
     "text": [
      "Terms of the series until term magnitude < epsilon:\n",
      "0.5\n",
      "0.020833333333333332\n",
      "0.00026041666666666666\n",
      "1.5500992063492061e-06\n",
      "5.382288910934743e-09\n",
      "1.223247479757896e-11\n"
     ]
    }
   ],
   "source": [
    "from typing import Generator\n",
    "\n",
    "def sinh_taylor_member_gen(x: float) -> Generator[float, None, None]:\n",
    "    \"\"\"Calculate new member of Taylor series for sh(x) every new iteration\"\"\"\n",
    "    # Initial values\n",
    "    member: float = x\n",
    "    k: int = 0\n",
    "    yield member\n",
    "\n",
    "    while True:\n",
    "        k += 1\n",
    "        member *= (x * x) / (2 * k * (2 * k + 1))\n",
    "        yield member\n",
    "\n",
    "gener = sinh_taylor_member_gen(x=0.5)\n",
    "epsilon: float = 1e-12\n",
    "\n",
    "print(\"Terms of the series until term magnitude < epsilon:\")\n",
    "term = next(gener)\n",
    "\n",
    "while abs(term) > epsilon:\n",
    "    print(term)\n",
    "    term = next(gener)"
   ]
  },
  {
   "cell_type": "markdown",
   "id": "344063da",
   "metadata": {},
   "source": [
    "### Automatic differentiation (grad, H)"
   ]
  },
  {
   "cell_type": "code",
   "execution_count": null,
   "id": "ad977e1e",
   "metadata": {},
   "outputs": [
    {
     "name": "stdout",
     "output_type": "stream",
     "text": [
      "8.999999999481645\n"
     ]
    }
   ],
   "source": [
    "from typing import Callable\n",
    "\n",
    "def gradient(f: Callable[[float], float], eps: float = 1e-4) -> Callable[[float], float]:\n",
    "    '''\n",
    "        Returns function (Callable), which calculates derivatives (e.g. gradient, H, Jacobian)\n",
    "    '''\n",
    "    def derivative(x: float) -> float:\n",
    "        return (f(x + eps) - f(x - eps)) / (2 * eps)\n",
    "    return derivative\n",
    "\n",
    "def quadratic_func(x: float, a: float = 3, b: float = 3, c: float = 3) -> float:\n",
    "    return a * (x ** 2) + b * x + c\n",
    "\n",
    "deriv = gradient(f=quadratic_func, eps=1e-6)\n",
    "print(deriv(1))"
   ]
  },
  {
   "cell_type": "code",
   "execution_count": null,
   "id": "9d8a43ae",
   "metadata": {},
   "outputs": [
    {
     "ename": "SyntaxError",
     "evalue": "invalid syntax. Perhaps you forgot a comma? (2922920244.py, line 8)",
     "output_type": "error",
     "traceback": [
      "  \u001b[36mCell\u001b[39m\u001b[36m \u001b[39m\u001b[32mIn[27]\u001b[39m\u001b[32m, line 8\u001b[39m\n\u001b[31m    \u001b[39m\u001b[31mgrad_ : list[Callable[],] = list()\u001b[39m\n                 ^\n\u001b[31mSyntaxError\u001b[39m\u001b[31m:\u001b[39m invalid syntax. Perhaps you forgot a comma?\n"
     ]
    }
   ],
   "source": [
    "from typing import Iterable\n",
    "\n",
    "# TODO: Implementation for function of many variables (with use of currying)\n",
    "# TODO: wrapper for implementation\n",
    "\n",
    "def f (*args: Iterable[float]) -> float:\n",
    "    args : Iterable[float]\n",
    "    grad_ : list[Callable[],] = list()\n",
    "    for i in range(len(args)):\n",
    "        fixed_args_1, changable_arg, fixed_args_2 = args[:i-1], args[i], args[i+1:]\n",
    "        def new_f(x):\n",
    "            return grad*(lambda x : f(fixed_args_1, fixed_args_2))\n",
    "        grad_.append(new_f)"
   ]
  },
  {
   "cell_type": "code",
   "execution_count": null,
   "id": "6262ff32",
   "metadata": {},
   "outputs": [],
   "source": []
  }
 ],
 "metadata": {
  "kernelspec": {
   "display_name": ".venv",
   "language": "python",
   "name": "python3"
  },
  "language_info": {
   "codemirror_mode": {
    "name": "ipython",
    "version": 3
   },
   "file_extension": ".py",
   "mimetype": "text/x-python",
   "name": "python",
   "nbconvert_exporter": "python",
   "pygments_lexer": "ipython3",
   "version": "3.12.3"
  }
 },
 "nbformat": 4,
 "nbformat_minor": 5
}
